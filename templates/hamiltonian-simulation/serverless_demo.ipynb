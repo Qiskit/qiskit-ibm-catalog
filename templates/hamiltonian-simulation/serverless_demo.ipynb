{
 "cells": [
  {
   "cell_type": "markdown",
   "id": "512492cd-d547-492b-8755-57355d9d3ac8",
   "metadata": {},
   "source": [
    "# Qiskit serverless demonstration: Hamiltonian simulation template"
   ]
  },
  {
   "cell_type": "markdown",
   "id": "95f53da7-ae60-4ccf-9b3f-32b8e44f8548",
   "metadata": {},
   "source": [
    "### Convert notebook to a Qiskit Serverless program\n",
    "\n",
    "Here we use `nbconvert` to convert the Jupyter notebook to a Python program (`.py` file)."
   ]
  },
  {
   "cell_type": "code",
   "execution_count": 1,
   "id": "05f325fa-8372-4e4f-b12d-627213168aaa",
   "metadata": {},
   "outputs": [
    {
     "ename": "KeyboardInterrupt",
     "evalue": "",
     "output_type": "error",
     "traceback": [
      "\u001b[0;31m---------------------------------------------------------------------------\u001b[0m",
      "\u001b[0;31mKeyboardInterrupt\u001b[0m                         Traceback (most recent call last)",
      "Cell \u001b[0;32mIn[1], line 7\u001b[0m\n\u001b[1;32m      5\u001b[0m source_path \u001b[38;5;241m=\u001b[39m Path(\u001b[38;5;124m\"\u001b[39m\u001b[38;5;124m./source_files/\u001b[39m\u001b[38;5;124m\"\u001b[39m)\n\u001b[1;32m      6\u001b[0m source_path\u001b[38;5;241m.\u001b[39mmkdir(exist_ok\u001b[38;5;241m=\u001b[39m\u001b[38;5;28;01mTrue\u001b[39;00m)\n\u001b[0;32m----> 7\u001b[0m script, script_info \u001b[38;5;241m=\u001b[39m \u001b[43mScriptExporter\u001b[49m\u001b[43m(\u001b[49m\u001b[43m)\u001b[49m\u001b[38;5;241;43m.\u001b[39;49m\u001b[43mfrom_filename\u001b[49m\u001b[43m(\u001b[49m\u001b[43mnotebook_filename\u001b[49m\u001b[43m)\u001b[49m\n\u001b[1;32m      8\u001b[0m script_name \u001b[38;5;241m=\u001b[39m script_info[\u001b[38;5;124m\"\u001b[39m\u001b[38;5;124mmetadata\u001b[39m\u001b[38;5;124m\"\u001b[39m][\u001b[38;5;124m\"\u001b[39m\u001b[38;5;124mname\u001b[39m\u001b[38;5;124m\"\u001b[39m]\n\u001b[1;32m      9\u001b[0m script_file \u001b[38;5;241m=\u001b[39m source_path \u001b[38;5;241m/\u001b[39m (script_name \u001b[38;5;241m+\u001b[39m script_info[\u001b[38;5;124m\"\u001b[39m\u001b[38;5;124moutput_extension\u001b[39m\u001b[38;5;124m\"\u001b[39m])\n",
      "File \u001b[0;32m~/IBM-Q-Research/hamiltonian-simulation-function/.direnv/python-3.12/lib/python3.12/site-packages/nbconvert/exporters/templateexporter.py:386\u001b[0m, in \u001b[0;36mTemplateExporter.from_filename\u001b[0;34m(self, filename, resources, **kw)\u001b[0m\n\u001b[1;32m    382\u001b[0m \u001b[38;5;28;01mdef\u001b[39;00m \u001b[38;5;21mfrom_filename\u001b[39m(  \u001b[38;5;66;03m# type:ignore[override]\u001b[39;00m\n\u001b[1;32m    383\u001b[0m     \u001b[38;5;28mself\u001b[39m, filename: \u001b[38;5;28mstr\u001b[39m, resources: \u001b[38;5;28mdict\u001b[39m[\u001b[38;5;28mstr\u001b[39m, t\u001b[38;5;241m.\u001b[39mAny] \u001b[38;5;241m|\u001b[39m \u001b[38;5;28;01mNone\u001b[39;00m \u001b[38;5;241m=\u001b[39m \u001b[38;5;28;01mNone\u001b[39;00m, \u001b[38;5;241m*\u001b[39m\u001b[38;5;241m*\u001b[39mkw: t\u001b[38;5;241m.\u001b[39mAny\n\u001b[1;32m    384\u001b[0m ) \u001b[38;5;241m-\u001b[39m\u001b[38;5;241m>\u001b[39m \u001b[38;5;28mtuple\u001b[39m[\u001b[38;5;28mstr\u001b[39m, \u001b[38;5;28mdict\u001b[39m[\u001b[38;5;28mstr\u001b[39m, t\u001b[38;5;241m.\u001b[39mAny]]:\n\u001b[1;32m    385\u001b[0m \u001b[38;5;250m    \u001b[39m\u001b[38;5;124;03m\"\"\"Convert a notebook from a filename.\"\"\"\u001b[39;00m\n\u001b[0;32m--> 386\u001b[0m     \u001b[38;5;28;01mreturn\u001b[39;00m \u001b[38;5;28;43msuper\u001b[39;49m\u001b[43m(\u001b[49m\u001b[43m)\u001b[49m\u001b[38;5;241;43m.\u001b[39;49m\u001b[43mfrom_filename\u001b[49m\u001b[43m(\u001b[49m\u001b[43mfilename\u001b[49m\u001b[43m,\u001b[49m\u001b[43m \u001b[49m\u001b[43mresources\u001b[49m\u001b[43m,\u001b[49m\u001b[43m \u001b[49m\u001b[38;5;241;43m*\u001b[39;49m\u001b[38;5;241;43m*\u001b[39;49m\u001b[43mkw\u001b[49m\u001b[43m)\u001b[49m\n",
      "File \u001b[0;32m~/IBM-Q-Research/hamiltonian-simulation-function/.direnv/python-3.12/lib/python3.12/site-packages/nbconvert/exporters/exporter.py:201\u001b[0m, in \u001b[0;36mExporter.from_filename\u001b[0;34m(self, filename, resources, **kw)\u001b[0m\n\u001b[1;32m    198\u001b[0m resources[\u001b[38;5;124m\"\u001b[39m\u001b[38;5;124mmetadata\u001b[39m\u001b[38;5;124m\"\u001b[39m][\u001b[38;5;124m\"\u001b[39m\u001b[38;5;124mmodified_date\u001b[39m\u001b[38;5;124m\"\u001b[39m] \u001b[38;5;241m=\u001b[39m modified_date\u001b[38;5;241m.\u001b[39mstrftime(date_format)\n\u001b[1;32m    200\u001b[0m \u001b[38;5;28;01mwith\u001b[39;00m \u001b[38;5;28mopen\u001b[39m(filename, encoding\u001b[38;5;241m=\u001b[39m\u001b[38;5;124m\"\u001b[39m\u001b[38;5;124mutf-8\u001b[39m\u001b[38;5;124m\"\u001b[39m) \u001b[38;5;28;01mas\u001b[39;00m f:\n\u001b[0;32m--> 201\u001b[0m     \u001b[38;5;28;01mreturn\u001b[39;00m \u001b[38;5;28;43mself\u001b[39;49m\u001b[38;5;241;43m.\u001b[39;49m\u001b[43mfrom_file\u001b[49m\u001b[43m(\u001b[49m\u001b[43mf\u001b[49m\u001b[43m,\u001b[49m\u001b[43m \u001b[49m\u001b[43mresources\u001b[49m\u001b[38;5;241;43m=\u001b[39;49m\u001b[43mresources\u001b[49m\u001b[43m,\u001b[49m\u001b[43m \u001b[49m\u001b[38;5;241;43m*\u001b[39;49m\u001b[38;5;241;43m*\u001b[39;49m\u001b[43mkw\u001b[49m\u001b[43m)\u001b[49m\n",
      "File \u001b[0;32m~/IBM-Q-Research/hamiltonian-simulation-function/.direnv/python-3.12/lib/python3.12/site-packages/nbconvert/exporters/templateexporter.py:392\u001b[0m, in \u001b[0;36mTemplateExporter.from_file\u001b[0;34m(self, file_stream, resources, **kw)\u001b[0m\n\u001b[1;32m    388\u001b[0m \u001b[38;5;28;01mdef\u001b[39;00m \u001b[38;5;21mfrom_file\u001b[39m(  \u001b[38;5;66;03m# type:ignore[override]\u001b[39;00m\n\u001b[1;32m    389\u001b[0m     \u001b[38;5;28mself\u001b[39m, file_stream: t\u001b[38;5;241m.\u001b[39mAny, resources: \u001b[38;5;28mdict\u001b[39m[\u001b[38;5;28mstr\u001b[39m, t\u001b[38;5;241m.\u001b[39mAny] \u001b[38;5;241m|\u001b[39m \u001b[38;5;28;01mNone\u001b[39;00m \u001b[38;5;241m=\u001b[39m \u001b[38;5;28;01mNone\u001b[39;00m, \u001b[38;5;241m*\u001b[39m\u001b[38;5;241m*\u001b[39mkw: t\u001b[38;5;241m.\u001b[39mAny\n\u001b[1;32m    390\u001b[0m ) \u001b[38;5;241m-\u001b[39m\u001b[38;5;241m>\u001b[39m \u001b[38;5;28mtuple\u001b[39m[\u001b[38;5;28mstr\u001b[39m, \u001b[38;5;28mdict\u001b[39m[\u001b[38;5;28mstr\u001b[39m, t\u001b[38;5;241m.\u001b[39mAny]]:\n\u001b[1;32m    391\u001b[0m \u001b[38;5;250m    \u001b[39m\u001b[38;5;124;03m\"\"\"Convert a notebook from a file.\"\"\"\u001b[39;00m\n\u001b[0;32m--> 392\u001b[0m     \u001b[38;5;28;01mreturn\u001b[39;00m \u001b[38;5;28;43msuper\u001b[39;49m\u001b[43m(\u001b[49m\u001b[43m)\u001b[49m\u001b[38;5;241;43m.\u001b[39;49m\u001b[43mfrom_file\u001b[49m\u001b[43m(\u001b[49m\u001b[43mfile_stream\u001b[49m\u001b[43m,\u001b[49m\u001b[43m \u001b[49m\u001b[43mresources\u001b[49m\u001b[43m,\u001b[49m\u001b[43m \u001b[49m\u001b[38;5;241;43m*\u001b[39;49m\u001b[38;5;241;43m*\u001b[39;49m\u001b[43mkw\u001b[49m\u001b[43m)\u001b[49m\n",
      "File \u001b[0;32m~/IBM-Q-Research/hamiltonian-simulation-function/.direnv/python-3.12/lib/python3.12/site-packages/nbconvert/exporters/exporter.py:220\u001b[0m, in \u001b[0;36mExporter.from_file\u001b[0;34m(self, file_stream, resources, **kw)\u001b[0m\n\u001b[1;32m    203\u001b[0m \u001b[38;5;28;01mdef\u001b[39;00m \u001b[38;5;21mfrom_file\u001b[39m(\n\u001b[1;32m    204\u001b[0m     \u001b[38;5;28mself\u001b[39m, file_stream: t\u001b[38;5;241m.\u001b[39mAny, resources: \u001b[38;5;28mdict\u001b[39m[\u001b[38;5;28mstr\u001b[39m, t\u001b[38;5;241m.\u001b[39mAny] \u001b[38;5;241m|\u001b[39m \u001b[38;5;28;01mNone\u001b[39;00m \u001b[38;5;241m=\u001b[39m \u001b[38;5;28;01mNone\u001b[39;00m, \u001b[38;5;241m*\u001b[39m\u001b[38;5;241m*\u001b[39mkw: t\u001b[38;5;241m.\u001b[39mAny\n\u001b[1;32m    205\u001b[0m ) \u001b[38;5;241m-\u001b[39m\u001b[38;5;241m>\u001b[39m \u001b[38;5;28mtuple\u001b[39m[NotebookNode, \u001b[38;5;28mdict\u001b[39m[\u001b[38;5;28mstr\u001b[39m, t\u001b[38;5;241m.\u001b[39mAny]]:\n\u001b[1;32m    206\u001b[0m \u001b[38;5;250m    \u001b[39m\u001b[38;5;124;03m\"\"\"\u001b[39;00m\n\u001b[1;32m    207\u001b[0m \u001b[38;5;124;03m    Convert a notebook from a notebook file.\u001b[39;00m\n\u001b[1;32m    208\u001b[0m \n\u001b[0;32m   (...)\u001b[0m\n\u001b[1;32m    218\u001b[0m \n\u001b[1;32m    219\u001b[0m \u001b[38;5;124;03m    \"\"\"\u001b[39;00m\n\u001b[0;32m--> 220\u001b[0m     \u001b[38;5;28;01mreturn\u001b[39;00m \u001b[38;5;28;43mself\u001b[39;49m\u001b[38;5;241;43m.\u001b[39;49m\u001b[43mfrom_notebook_node\u001b[49m\u001b[43m(\u001b[49m\n\u001b[1;32m    221\u001b[0m \u001b[43m        \u001b[49m\u001b[43mnbformat\u001b[49m\u001b[38;5;241;43m.\u001b[39;49m\u001b[43mread\u001b[49m\u001b[43m(\u001b[49m\u001b[43mfile_stream\u001b[49m\u001b[43m,\u001b[49m\u001b[43m \u001b[49m\u001b[43mas_version\u001b[49m\u001b[38;5;241;43m=\u001b[39;49m\u001b[38;5;241;43m4\u001b[39;49m\u001b[43m)\u001b[49m\u001b[43m,\u001b[49m\u001b[43m \u001b[49m\u001b[43mresources\u001b[49m\u001b[38;5;241;43m=\u001b[39;49m\u001b[43mresources\u001b[49m\u001b[43m,\u001b[49m\u001b[43m \u001b[49m\u001b[38;5;241;43m*\u001b[39;49m\u001b[38;5;241;43m*\u001b[39;49m\u001b[43mkw\u001b[49m\n\u001b[1;32m    222\u001b[0m \u001b[43m    \u001b[49m\u001b[43m)\u001b[49m\n",
      "File \u001b[0;32m~/IBM-Q-Research/hamiltonian-simulation-function/.direnv/python-3.12/lib/python3.12/site-packages/nbconvert/exporters/script.py:63\u001b[0m, in \u001b[0;36mScriptExporter.from_notebook_node\u001b[0;34m(self, nb, resources, **kw)\u001b[0m\n\u001b[1;32m     61\u001b[0m         \u001b[38;5;28mself\u001b[39m\u001b[38;5;241m.\u001b[39m_exporters[exporter_name] \u001b[38;5;241m=\u001b[39m exporter(config\u001b[38;5;241m=\u001b[39m\u001b[38;5;28mself\u001b[39m\u001b[38;5;241m.\u001b[39mconfig, parent\u001b[38;5;241m=\u001b[39m\u001b[38;5;28mself\u001b[39m)\n\u001b[1;32m     62\u001b[0m     exporter \u001b[38;5;241m=\u001b[39m \u001b[38;5;28mself\u001b[39m\u001b[38;5;241m.\u001b[39m_exporters[exporter_name]\n\u001b[0;32m---> 63\u001b[0m     \u001b[38;5;28;01mreturn\u001b[39;00m \u001b[43mexporter\u001b[49m\u001b[38;5;241;43m.\u001b[39;49m\u001b[43mfrom_notebook_node\u001b[49m\u001b[43m(\u001b[49m\u001b[43mnb\u001b[49m\u001b[43m,\u001b[49m\u001b[43m \u001b[49m\u001b[43mresources\u001b[49m\u001b[43m,\u001b[49m\u001b[43m \u001b[49m\u001b[38;5;241;43m*\u001b[39;49m\u001b[38;5;241;43m*\u001b[39;49m\u001b[43mkw\u001b[49m\u001b[43m)\u001b[49m\n\u001b[1;32m     65\u001b[0m \u001b[38;5;66;03m# Look up a script exporter for this notebook's language\u001b[39;00m\n\u001b[1;32m     66\u001b[0m lang_name \u001b[38;5;241m=\u001b[39m langinfo\u001b[38;5;241m.\u001b[39mget(\u001b[38;5;124m\"\u001b[39m\u001b[38;5;124mname\u001b[39m\u001b[38;5;124m\"\u001b[39m)\n",
      "File \u001b[0;32m~/IBM-Q-Research/hamiltonian-simulation-function/.direnv/python-3.12/lib/python3.12/site-packages/nbconvert/exporters/templateexporter.py:408\u001b[0m, in \u001b[0;36mTemplateExporter.from_notebook_node\u001b[0;34m(self, nb, resources, **kw)\u001b[0m\n\u001b[1;32m    394\u001b[0m \u001b[38;5;28;01mdef\u001b[39;00m \u001b[38;5;21mfrom_notebook_node\u001b[39m(  \u001b[38;5;66;03m# type:ignore[explicit-override, override]\u001b[39;00m\n\u001b[1;32m    395\u001b[0m     \u001b[38;5;28mself\u001b[39m, nb: NotebookNode, resources: \u001b[38;5;28mdict\u001b[39m[\u001b[38;5;28mstr\u001b[39m, t\u001b[38;5;241m.\u001b[39mAny] \u001b[38;5;241m|\u001b[39m \u001b[38;5;28;01mNone\u001b[39;00m \u001b[38;5;241m=\u001b[39m \u001b[38;5;28;01mNone\u001b[39;00m, \u001b[38;5;241m*\u001b[39m\u001b[38;5;241m*\u001b[39mkw: t\u001b[38;5;241m.\u001b[39mAny\n\u001b[1;32m    396\u001b[0m ) \u001b[38;5;241m-\u001b[39m\u001b[38;5;241m>\u001b[39m \u001b[38;5;28mtuple\u001b[39m[\u001b[38;5;28mstr\u001b[39m, \u001b[38;5;28mdict\u001b[39m[\u001b[38;5;28mstr\u001b[39m, t\u001b[38;5;241m.\u001b[39mAny]]:\n\u001b[1;32m    397\u001b[0m \u001b[38;5;250m    \u001b[39m\u001b[38;5;124;03m\"\"\"\u001b[39;00m\n\u001b[1;32m    398\u001b[0m \u001b[38;5;124;03m    Convert a notebook from a notebook node instance.\u001b[39;00m\n\u001b[1;32m    399\u001b[0m \n\u001b[0;32m   (...)\u001b[0m\n\u001b[1;32m    406\u001b[0m \u001b[38;5;124;03m        preprocessors and filters.\u001b[39;00m\n\u001b[1;32m    407\u001b[0m \u001b[38;5;124;03m    \"\"\"\u001b[39;00m\n\u001b[0;32m--> 408\u001b[0m     nb_copy, resources \u001b[38;5;241m=\u001b[39m \u001b[38;5;28;43msuper\u001b[39;49m\u001b[43m(\u001b[49m\u001b[43m)\u001b[49m\u001b[38;5;241;43m.\u001b[39;49m\u001b[43mfrom_notebook_node\u001b[49m\u001b[43m(\u001b[49m\u001b[43mnb\u001b[49m\u001b[43m,\u001b[49m\u001b[43m \u001b[49m\u001b[43mresources\u001b[49m\u001b[43m,\u001b[49m\u001b[43m \u001b[49m\u001b[38;5;241;43m*\u001b[39;49m\u001b[38;5;241;43m*\u001b[39;49m\u001b[43mkw\u001b[49m\u001b[43m)\u001b[49m\n\u001b[1;32m    409\u001b[0m     resources\u001b[38;5;241m.\u001b[39msetdefault(\u001b[38;5;124m\"\u001b[39m\u001b[38;5;124mraw_mimetypes\u001b[39m\u001b[38;5;124m\"\u001b[39m, \u001b[38;5;28mself\u001b[39m\u001b[38;5;241m.\u001b[39mraw_mimetypes)\n\u001b[1;32m    410\u001b[0m     resources[\u001b[38;5;124m\"\u001b[39m\u001b[38;5;124mglobal_content_filter\u001b[39m\u001b[38;5;124m\"\u001b[39m] \u001b[38;5;241m=\u001b[39m {\n\u001b[1;32m    411\u001b[0m         \u001b[38;5;124m\"\u001b[39m\u001b[38;5;124minclude_code\u001b[39m\u001b[38;5;124m\"\u001b[39m: \u001b[38;5;129;01mnot\u001b[39;00m \u001b[38;5;28mself\u001b[39m\u001b[38;5;241m.\u001b[39mexclude_code_cell,\n\u001b[1;32m    412\u001b[0m         \u001b[38;5;124m\"\u001b[39m\u001b[38;5;124minclude_markdown\u001b[39m\u001b[38;5;124m\"\u001b[39m: \u001b[38;5;129;01mnot\u001b[39;00m \u001b[38;5;28mself\u001b[39m\u001b[38;5;241m.\u001b[39mexclude_markdown,\n\u001b[0;32m   (...)\u001b[0m\n\u001b[1;32m    420\u001b[0m         \u001b[38;5;124m\"\u001b[39m\u001b[38;5;124mno_prompt\u001b[39m\u001b[38;5;124m\"\u001b[39m: \u001b[38;5;28mself\u001b[39m\u001b[38;5;241m.\u001b[39mexclude_input_prompt \u001b[38;5;129;01mand\u001b[39;00m \u001b[38;5;28mself\u001b[39m\u001b[38;5;241m.\u001b[39mexclude_output_prompt,\n\u001b[1;32m    421\u001b[0m     }\n",
      "File \u001b[0;32m~/IBM-Q-Research/hamiltonian-simulation-function/.direnv/python-3.12/lib/python3.12/site-packages/nbconvert/exporters/exporter.py:154\u001b[0m, in \u001b[0;36mExporter.from_notebook_node\u001b[0;34m(self, nb, resources, **kw)\u001b[0m\n\u001b[1;32m    151\u001b[0m     resources[\u001b[38;5;124m\"\u001b[39m\u001b[38;5;124mlanguage\u001b[39m\u001b[38;5;124m\"\u001b[39m] \u001b[38;5;241m=\u001b[39m nb[\u001b[38;5;124m\"\u001b[39m\u001b[38;5;124mmetadata\u001b[39m\u001b[38;5;124m\"\u001b[39m][\u001b[38;5;124m\"\u001b[39m\u001b[38;5;124mlanguage\u001b[39m\u001b[38;5;124m\"\u001b[39m]\u001b[38;5;241m.\u001b[39mlower()\n\u001b[1;32m    153\u001b[0m \u001b[38;5;66;03m# Preprocess\u001b[39;00m\n\u001b[0;32m--> 154\u001b[0m nb_copy, resources \u001b[38;5;241m=\u001b[39m \u001b[38;5;28;43mself\u001b[39;49m\u001b[38;5;241;43m.\u001b[39;49m\u001b[43m_preprocess\u001b[49m\u001b[43m(\u001b[49m\u001b[43mnb_copy\u001b[49m\u001b[43m,\u001b[49m\u001b[43m \u001b[49m\u001b[43mresources\u001b[49m\u001b[43m)\u001b[49m\n\u001b[1;32m    155\u001b[0m notebook_name \u001b[38;5;241m=\u001b[39m \u001b[38;5;124m\"\u001b[39m\u001b[38;5;124m\"\u001b[39m\n\u001b[1;32m    156\u001b[0m \u001b[38;5;28;01mif\u001b[39;00m resources \u001b[38;5;129;01mis\u001b[39;00m \u001b[38;5;129;01mnot\u001b[39;00m \u001b[38;5;28;01mNone\u001b[39;00m:\n",
      "File \u001b[0;32m~/IBM-Q-Research/hamiltonian-simulation-function/.direnv/python-3.12/lib/python3.12/site-packages/nbconvert/exporters/exporter.py:355\u001b[0m, in \u001b[0;36mExporter._preprocess\u001b[0;34m(self, nb, resources)\u001b[0m\n\u001b[1;32m    353\u001b[0m     nbc, resc \u001b[38;5;241m=\u001b[39m preprocessor(nbc, resc)\n\u001b[1;32m    354\u001b[0m     \u001b[38;5;28;01mif\u001b[39;00m \u001b[38;5;129;01mnot\u001b[39;00m \u001b[38;5;28mself\u001b[39m\u001b[38;5;241m.\u001b[39moptimistic_validation:\n\u001b[0;32m--> 355\u001b[0m         \u001b[38;5;28;43mself\u001b[39;49m\u001b[38;5;241;43m.\u001b[39;49m\u001b[43m_validate_preprocessor\u001b[49m\u001b[43m(\u001b[49m\u001b[43mnbc\u001b[49m\u001b[43m,\u001b[49m\u001b[43m \u001b[49m\u001b[43mpreprocessor\u001b[49m\u001b[43m)\u001b[49m\n\u001b[1;32m    357\u001b[0m \u001b[38;5;28;01mif\u001b[39;00m \u001b[38;5;28mself\u001b[39m\u001b[38;5;241m.\u001b[39moptimistic_validation:\n\u001b[1;32m    358\u001b[0m     \u001b[38;5;28mself\u001b[39m\u001b[38;5;241m.\u001b[39m_validate_preprocessor(nbc, preprocessor)\n",
      "File \u001b[0;32m~/IBM-Q-Research/hamiltonian-simulation-function/.direnv/python-3.12/lib/python3.12/site-packages/nbconvert/exporters/exporter.py:322\u001b[0m, in \u001b[0;36mExporter._validate_preprocessor\u001b[0;34m(self, nbc, preprocessor)\u001b[0m\n\u001b[1;32m    320\u001b[0m \u001b[38;5;28;01mdef\u001b[39;00m \u001b[38;5;21m_validate_preprocessor\u001b[39m(\u001b[38;5;28mself\u001b[39m, nbc, preprocessor):\n\u001b[1;32m    321\u001b[0m     \u001b[38;5;28;01mtry\u001b[39;00m:\n\u001b[0;32m--> 322\u001b[0m         \u001b[43mnbformat\u001b[49m\u001b[38;5;241;43m.\u001b[39;49m\u001b[43mvalidate\u001b[49m\u001b[43m(\u001b[49m\u001b[43mnbc\u001b[49m\u001b[43m,\u001b[49m\u001b[43m \u001b[49m\u001b[43mrelax_add_props\u001b[49m\u001b[38;5;241;43m=\u001b[39;49m\u001b[38;5;28;43;01mTrue\u001b[39;49;00m\u001b[43m)\u001b[49m\n\u001b[1;32m    323\u001b[0m     \u001b[38;5;28;01mexcept\u001b[39;00m nbformat\u001b[38;5;241m.\u001b[39mValidationError:\n\u001b[1;32m    324\u001b[0m         \u001b[38;5;28mself\u001b[39m\u001b[38;5;241m.\u001b[39mlog\u001b[38;5;241m.\u001b[39merror(\u001b[38;5;124m\"\u001b[39m\u001b[38;5;124mNotebook is invalid after preprocessor \u001b[39m\u001b[38;5;132;01m%s\u001b[39;00m\u001b[38;5;124m\"\u001b[39m, preprocessor)\n",
      "File \u001b[0;32m~/IBM-Q-Research/hamiltonian-simulation-function/.direnv/python-3.12/lib/python3.12/site-packages/nbformat/validator.py:501\u001b[0m, in \u001b[0;36mvalidate\u001b[0;34m(nbdict, ref, version, version_minor, relax_add_props, nbjson, repair_duplicate_cell_ids, strip_invalid_metadata)\u001b[0m\n\u001b[1;32m    491\u001b[0m     \u001b[38;5;28;01massert\u001b[39;00m \u001b[38;5;28misinstance\u001b[39m(version_minor, \u001b[38;5;28mint\u001b[39m)\n\u001b[1;32m    492\u001b[0m     _normalize(\n\u001b[1;32m    493\u001b[0m         nbdict,\n\u001b[1;32m    494\u001b[0m         version,\n\u001b[0;32m   (...)\u001b[0m\n\u001b[1;32m    498\u001b[0m         strip_invalid_metadata\u001b[38;5;241m=\u001b[39mstrip_invalid_metadata,\n\u001b[1;32m    499\u001b[0m     )\n\u001b[0;32m--> 501\u001b[0m \u001b[43m\u001b[49m\u001b[38;5;28;43;01mfor\u001b[39;49;00m\u001b[43m \u001b[49m\u001b[43merror\u001b[49m\u001b[43m \u001b[49m\u001b[38;5;129;43;01min\u001b[39;49;00m\u001b[43m \u001b[49m\u001b[43miter_validate\u001b[49m\u001b[43m(\u001b[49m\n\u001b[1;32m    502\u001b[0m \u001b[43m    \u001b[49m\u001b[43mnbdict\u001b[49m\u001b[43m,\u001b[49m\n\u001b[1;32m    503\u001b[0m \u001b[43m    \u001b[49m\u001b[43mref\u001b[49m\u001b[38;5;241;43m=\u001b[39;49m\u001b[43mref\u001b[49m\u001b[43m,\u001b[49m\n\u001b[1;32m    504\u001b[0m \u001b[43m    \u001b[49m\u001b[43mversion\u001b[49m\u001b[38;5;241;43m=\u001b[39;49m\u001b[43mversion\u001b[49m\u001b[43m,\u001b[49m\n\u001b[1;32m    505\u001b[0m \u001b[43m    \u001b[49m\u001b[43mversion_minor\u001b[49m\u001b[38;5;241;43m=\u001b[39;49m\u001b[43mversion_minor\u001b[49m\u001b[43m,\u001b[49m\n\u001b[1;32m    506\u001b[0m \u001b[43m    \u001b[49m\u001b[43mrelax_add_props\u001b[49m\u001b[38;5;241;43m=\u001b[39;49m\u001b[43mrelax_add_props\u001b[49m\u001b[43m,\u001b[49m\n\u001b[1;32m    507\u001b[0m \u001b[43m    \u001b[49m\u001b[43mstrip_invalid_metadata\u001b[49m\u001b[38;5;241;43m=\u001b[39;49m\u001b[43mstrip_invalid_metadata\u001b[49m\u001b[43m,\u001b[49m\n\u001b[1;32m    508\u001b[0m \u001b[43m\u001b[49m\u001b[43m)\u001b[49m\u001b[43m:\u001b[49m\n\u001b[1;32m    509\u001b[0m \u001b[43m    \u001b[49m\u001b[38;5;28;43;01mraise\u001b[39;49;00m\u001b[43m \u001b[49m\u001b[43merror\u001b[49m\n",
      "File \u001b[0;32m~/IBM-Q-Research/hamiltonian-simulation-function/.direnv/python-3.12/lib/python3.12/site-packages/nbformat/validator.py:660\u001b[0m, in \u001b[0;36miter_validate\u001b[0;34m(nbdict, ref, version, version_minor, relax_add_props, nbjson, strip_invalid_metadata)\u001b[0m\n\u001b[1;32m    655\u001b[0m \u001b[38;5;66;03m# Validate one more time to ensure that us removing metadata\u001b[39;00m\n\u001b[1;32m    656\u001b[0m \u001b[38;5;66;03m# didn't cause another complex validation issue in the schema.\u001b[39;00m\n\u001b[1;32m    657\u001b[0m \u001b[38;5;66;03m# Also to ensure that higher-level errors produced by individual metadata validation\u001b[39;00m\n\u001b[1;32m    658\u001b[0m \u001b[38;5;66;03m# failures are removed.\u001b[39;00m\n\u001b[1;32m    659\u001b[0m \u001b[38;5;28;01mtry\u001b[39;00m:\n\u001b[0;32m--> 660\u001b[0m     errors \u001b[38;5;241m=\u001b[39m \u001b[43m_get_errors\u001b[49m\u001b[43m(\u001b[49m\u001b[43mnbdict\u001b[49m\u001b[43m,\u001b[49m\u001b[43m \u001b[49m\u001b[43mversion\u001b[49m\u001b[43m,\u001b[49m\u001b[43m \u001b[49m\u001b[43mversion_minor\u001b[49m\u001b[43m,\u001b[49m\u001b[43m \u001b[49m\u001b[43mrelax_add_props\u001b[49m\u001b[43m)\u001b[49m\n\u001b[1;32m    661\u001b[0m \u001b[38;5;28;01mexcept\u001b[39;00m ValidationError \u001b[38;5;28;01mas\u001b[39;00m e:\n\u001b[1;32m    662\u001b[0m     \u001b[38;5;28;01myield\u001b[39;00m e\n",
      "File \u001b[0;32m~/IBM-Q-Research/hamiltonian-simulation-function/.direnv/python-3.12/lib/python3.12/site-packages/nbformat/validator.py:515\u001b[0m, in \u001b[0;36m_get_errors\u001b[0;34m(nbdict, version, version_minor, relax_add_props, *args)\u001b[0m\n\u001b[1;32m    512\u001b[0m \u001b[38;5;28;01mdef\u001b[39;00m \u001b[38;5;21m_get_errors\u001b[39m(\n\u001b[1;32m    513\u001b[0m     nbdict: Any, version: \u001b[38;5;28mint\u001b[39m, version_minor: \u001b[38;5;28mint\u001b[39m, relax_add_props: \u001b[38;5;28mbool\u001b[39m, \u001b[38;5;241m*\u001b[39margs: Any\n\u001b[1;32m    514\u001b[0m ) \u001b[38;5;241m-\u001b[39m\u001b[38;5;241m>\u001b[39m Any:\n\u001b[0;32m--> 515\u001b[0m     validator \u001b[38;5;241m=\u001b[39m \u001b[43mget_validator\u001b[49m\u001b[43m(\u001b[49m\u001b[43mversion\u001b[49m\u001b[43m,\u001b[49m\u001b[43m \u001b[49m\u001b[43mversion_minor\u001b[49m\u001b[43m,\u001b[49m\u001b[43m \u001b[49m\u001b[43mrelax_add_props\u001b[49m\u001b[38;5;241;43m=\u001b[39;49m\u001b[43mrelax_add_props\u001b[49m\u001b[43m)\u001b[49m\n\u001b[1;32m    516\u001b[0m     \u001b[38;5;28;01mif\u001b[39;00m \u001b[38;5;129;01mnot\u001b[39;00m validator:\n\u001b[1;32m    517\u001b[0m         msg \u001b[38;5;241m=\u001b[39m \u001b[38;5;124mf\u001b[39m\u001b[38;5;124m\"\u001b[39m\u001b[38;5;124mNo schema for validating v\u001b[39m\u001b[38;5;132;01m{\u001b[39;00mversion\u001b[38;5;132;01m}\u001b[39;00m\u001b[38;5;124m.\u001b[39m\u001b[38;5;132;01m{\u001b[39;00mversion_minor\u001b[38;5;132;01m}\u001b[39;00m\u001b[38;5;124m notebooks\u001b[39m\u001b[38;5;124m\"\u001b[39m\n",
      "File \u001b[0;32m~/IBM-Q-Research/hamiltonian-simulation-function/.direnv/python-3.12/lib/python3.12/site-packages/nbformat/validator.py:96\u001b[0m, in \u001b[0;36mget_validator\u001b[0;34m(version, version_minor, relax_add_props, name)\u001b[0m\n\u001b[1;32m     93\u001b[0m     \u001b[38;5;66;03m# this allows properties to be added for intermediate\u001b[39;00m\n\u001b[1;32m     94\u001b[0m     \u001b[38;5;66;03m# representations while validating for all other kinds of errors\u001b[39;00m\n\u001b[1;32m     95\u001b[0m     schema_json \u001b[38;5;241m=\u001b[39m _relax_additional_properties(schema_json)\n\u001b[0;32m---> 96\u001b[0m     validators[version_tuple] \u001b[38;5;241m=\u001b[39m \u001b[43mcurrent_validator\u001b[49m\u001b[43m(\u001b[49m\u001b[43mschema_json\u001b[49m\u001b[43m)\u001b[49m\n\u001b[1;32m     98\u001b[0m \u001b[38;5;28;01mreturn\u001b[39;00m validators[version_tuple]\n",
      "File \u001b[0;32m~/IBM-Q-Research/hamiltonian-simulation-function/.direnv/python-3.12/lib/python3.12/site-packages/nbformat/json_compat.py:63\u001b[0m, in \u001b[0;36mFastJsonSchemaValidator.__init__\u001b[0;34m(self, schema)\u001b[0m\n\u001b[1;32m     61\u001b[0m \u001b[38;5;250m\u001b[39m\u001b[38;5;124;03m\"\"\"Initialize the validator.\"\"\"\u001b[39;00m\n\u001b[1;32m     62\u001b[0m \u001b[38;5;28msuper\u001b[39m()\u001b[38;5;241m.\u001b[39m\u001b[38;5;21m__init__\u001b[39m(schema)\n\u001b[0;32m---> 63\u001b[0m \u001b[38;5;28mself\u001b[39m\u001b[38;5;241m.\u001b[39m_validator \u001b[38;5;241m=\u001b[39m \u001b[43mfastjsonschema\u001b[49m\u001b[38;5;241;43m.\u001b[39;49m\u001b[43mcompile\u001b[49m\u001b[43m(\u001b[49m\u001b[43mschema\u001b[49m\u001b[43m)\u001b[49m\n",
      "File \u001b[0;32m~/IBM-Q-Research/hamiltonian-simulation-function/.direnv/python-3.12/lib/python3.12/site-packages/fastjsonschema/__init__.py:212\u001b[0m, in \u001b[0;36mcompile\u001b[0;34m(definition, handlers, formats, use_default, use_formats)\u001b[0m\n\u001b[1;32m    210\u001b[0m global_state \u001b[38;5;241m=\u001b[39m code_generator\u001b[38;5;241m.\u001b[39mglobal_state\n\u001b[1;32m    211\u001b[0m \u001b[38;5;66;03m# Do not pass local state so it can recursively call itself.\u001b[39;00m\n\u001b[0;32m--> 212\u001b[0m \u001b[43mexec\u001b[49m\u001b[43m(\u001b[49m\u001b[43mcode_generator\u001b[49m\u001b[38;5;241;43m.\u001b[39;49m\u001b[43mfunc_code\u001b[49m\u001b[43m,\u001b[49m\u001b[43m \u001b[49m\u001b[43mglobal_state\u001b[49m\u001b[43m)\u001b[49m\n\u001b[1;32m    213\u001b[0m func \u001b[38;5;241m=\u001b[39m global_state[resolver\u001b[38;5;241m.\u001b[39mget_scope_name()]\n\u001b[1;32m    214\u001b[0m \u001b[38;5;28;01mif\u001b[39;00m formats:\n",
      "File \u001b[0;32m<string>:0\u001b[0m\n",
      "\u001b[0;31mKeyboardInterrupt\u001b[0m: "
     ]
    }
   ],
   "source": [
    "from pathlib import Path\n",
    "from nbconvert.exporters import ScriptExporter\n",
    "\n",
    "notebook_filename = \"hamsim_template.ipynb\"\n",
    "source_path = Path(\"./source_files/\")\n",
    "source_path.mkdir(exist_ok=True)\n",
    "script, script_info = ScriptExporter().from_filename(notebook_filename)\n",
    "script_name = script_info[\"metadata\"][\"name\"]\n",
    "script_file = source_path / (script_name + script_info[\"output_extension\"])\n",
    "with script_file.open(\"w\") as f:\n",
    "    f.write(script)\n",
    "print(f\"Notebook saved to {script_file}\")"
   ]
  },
  {
   "cell_type": "code",
   "execution_count": null,
   "id": "94d2dafd-2c5d-4ec2-812c-60060a8bb26e",
   "metadata": {},
   "outputs": [],
   "source": [
    "with script_file.open() as f:\n",
    "    print(\"\".join(f.readlines()[:25]), \"\\n[...]\")"
   ]
  },
  {
   "cell_type": "markdown",
   "id": "5e9c99fa-a4a8-433b-9c9a-cf25bddc2c6d",
   "metadata": {},
   "source": [
    "### Upload template to serverless"
   ]
  },
  {
   "cell_type": "code",
   "execution_count": null,
   "id": "31226d40-be87-4069-9fdb-d9015dcd5e16",
   "metadata": {},
   "outputs": [],
   "source": [
    "from qiskit_ibm_catalog import QiskitServerless, QiskitFunction\n",
    "\n",
    "title = script_file.stem\n",
    "\n",
    "template = QiskitFunction(\n",
    "    title=script_file.stem,\n",
    "    entrypoint=script_file.name,\n",
    "    working_dir=str(source_path),\n",
    "    dependencies=[\n",
    "        \"qiskit-addon-utils==0.1.0\",\n",
    "        \"qiskit-addon-aqc-tensor[quimb-jax]==0.1.0\",\n",
    "        \"mergedeep\",\n",
    "    ],\n",
    ")\n",
    "\n",
    "serverless = QiskitServerless()\n",
    "serverless.upload(template)\n",
    "print(f\"Uploaded program: {title}\")"
   ]
  },
  {
   "cell_type": "code",
   "execution_count": null,
   "id": "f4935f39-9c29-442a-9ab8-68fb21b86ab9",
   "metadata": {},
   "outputs": [],
   "source": [
    "serverless.list()"
   ]
  },
  {
   "cell_type": "markdown",
   "id": "31f63fd6-0fd0-49f4-9fd0-e22bf413f8d6",
   "metadata": {},
   "source": [
    "### Load the template"
   ]
  },
  {
   "cell_type": "code",
   "execution_count": null,
   "id": "b0d19778-4ee7-4205-a4c8-e1cafc50752d",
   "metadata": {},
   "outputs": [],
   "source": [
    "template = serverless.load(title)"
   ]
  },
  {
   "cell_type": "markdown",
   "id": "61ca636d-dfb8-4e4e-a3a1-7ed974950714",
   "metadata": {},
   "source": [
    "### Prepare hamiltonian and observable"
   ]
  },
  {
   "cell_type": "code",
   "execution_count": null,
   "id": "21b415a9-0888-4fe4-a969-35dabe8aca63",
   "metadata": {},
   "outputs": [],
   "source": [
    "from qiskit.quantum_info import SparsePauliOp\n",
    "\n",
    "hamiltonian = SparsePauliOp.from_sparse_list(\n",
    "    [(\"XX\", (i, i + 1), 1.0) for i in range(3)], num_qubits=4\n",
    ") + SparsePauliOp.from_sparse_list(\n",
    "    [(\"YY\", (i, i + 1), 1.0) for i in range(3)], num_qubits=4\n",
    ")\n",
    "observable = SparsePauliOp.from_sparse_list([(\"ZZ\", (1, 2), 1.0)], num_qubits=4)"
   ]
  },
  {
   "cell_type": "markdown",
   "id": "2b801bef-c8e9-4670-9784-5dc5da738f41",
   "metadata": {},
   "source": [
    "### Run the template"
   ]
  },
  {
   "cell_type": "code",
   "execution_count": null,
   "id": "6bd04854-0f3c-480c-a734-313b4f34efcb",
   "metadata": {},
   "outputs": [],
   "source": [
    "job = template.run(\n",
    "    dry_run=True,\n",
    "    hamiltonian=hamiltonian,\n",
    "    observable=observable,\n",
    "    backend_name=\"ibm_fez\",\n",
    "    estimator_options={},\n",
    "    aqc_evolution_time=0.2,\n",
    "    aqc_ansatz_num_trotter_steps=1,\n",
    "    aqc_target_num_trotter_steps=32,\n",
    "    remainder_evolution_time=0.2,\n",
    "    remainder_num_trotter_steps=4,\n",
    "    aqc_max_iterations=300,\n",
    ")"
   ]
  },
  {
   "cell_type": "code",
   "execution_count": null,
   "id": "a64dd2b1-dda2-4182-8601-5c4763323fae",
   "metadata": {},
   "outputs": [],
   "source": [
    "print(job.job_id)"
   ]
  },
  {
   "cell_type": "markdown",
   "id": "ca3f6c67-7121-4aed-9772-8453a4dc95e5",
   "metadata": {},
   "source": [
    "### Check the logs (this will return any info about how AQC is behaving)"
   ]
  },
  {
   "cell_type": "code",
   "execution_count": null,
   "id": "310a7391-9e5a-4687-b3be-bd09b5862ce2",
   "metadata": {},
   "outputs": [],
   "source": [
    "job.status()"
   ]
  },
  {
   "cell_type": "code",
   "execution_count": null,
   "id": "128fdcd8-14c0-40f6-846b-e3d846f7cc2a",
   "metadata": {},
   "outputs": [],
   "source": [
    "job.logs()"
   ]
  },
  {
   "cell_type": "markdown",
   "id": "ed632d41-e7ac-4a9a-929f-47c73ae743dd",
   "metadata": {},
   "source": [
    "### Get the final result (expectation value)"
   ]
  },
  {
   "cell_type": "code",
   "execution_count": null,
   "id": "ccb5e1b4-1471-43c9-b4ba-8db0a277ecd5",
   "metadata": {},
   "outputs": [],
   "source": [
    "job.result()"
   ]
  }
 ],
 "metadata": {
  "kernelspec": {
   "display_name": "Python 3 (ipykernel)",
   "language": "python",
   "name": "python3"
  },
  "language_info": {
   "codemirror_mode": {
    "name": "ipython",
    "version": 3
   },
   "file_extension": ".py",
   "mimetype": "text/x-python",
   "name": "python",
   "nbconvert_exporter": "python",
   "pygments_lexer": "ipython3",
   "version": "3.12.3"
  }
 },
 "nbformat": 4,
 "nbformat_minor": 5
}
