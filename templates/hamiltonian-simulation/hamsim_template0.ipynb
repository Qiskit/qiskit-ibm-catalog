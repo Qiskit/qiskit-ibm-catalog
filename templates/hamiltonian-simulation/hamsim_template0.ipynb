{
 "cells": [
  {
   "cell_type": "markdown",
   "metadata": {},
   "source": [
    "# Reducing the Trotter error of Hamiltonian dynamics with <span style=\"color:black\">approximate quantum compilation</span>\n",
    "\n",
    "In this notebook, you will learn how to use **Approximate Quantum Compilation with Tensor Networks (AQC-Tensor)**.\n",
    "\n",
    "Our overall goal is to simulate time evolution of the above model Hamiltonian.  We do so by Trotter evolution, which we split into two portions:\n",
    "\n",
    "1. An initial portion that is simulable with matrix product states (MPS).  We will \"compile\" this portion using AQC as presented in https://arxiv.org/abs/2301.08609.\n",
    "2. A subsequent portion of the circuit that will be executed only on hardware."
   ]
  },
  {
   "cell_type": "markdown",
   "metadata": {},
   "source": [
    "### Set parameters for function template"
   ]
  },
  {
   "cell_type": "code",
   "execution_count": 1,
   "metadata": {},
   "outputs": [],
   "source": [
    "dry_run = False\n",
    "backend_name = \"ibm_fez\"\n",
    "\n",
    "aqc_evolution_time = 0.2\n",
    "aqc_ansatz_num_trotter_steps = 1\n",
    "aqc_target_num_trotter_steps = 32\n",
    "\n",
    "remainder_evolution_time = 0.2\n",
    "remainder_num_trotter_steps = 4\n",
    "\n",
    "aqc_stopping_fidelity = 1.0  # Stop if this fidelity is achieved\n",
    "aqc_max_iterations = 500  # Stop after this number of iterations, even if stopping fidelity is not achieved\n",
    "\n",
    "output = {}"
   ]
  },
  {
   "cell_type": "markdown",
   "metadata": {},
   "source": [
    "### Perform parameter validation"
   ]
  },
  {
   "cell_type": "code",
   "execution_count": 2,
   "metadata": {},
   "outputs": [],
   "source": [
    "if not 0.0 < aqc_stopping_fidelity <= 1.0:\n",
    "    raise ValueError(\n",
    "        f\"Invalid stopping fidelity: {aqc_stopping_fidelity} - must be positive float no greater than 1\"\n",
    "    )"
   ]
  },
  {
   "cell_type": "markdown",
   "metadata": {},
   "source": [
    "### Configure ``EstimatorOptions``, to control the parameters of our hardware experiment\n",
    "\n",
    "For more information about the available execution options, see the [qiskit-ibm-runtime documentation](https://docs.quantum.ibm.com/api/qiskit-ibm-runtime/qiskit_ibm_runtime.options.EstimatorOptions). \n",
    "\n",
    "#### Set default options"
   ]
  },
  {
   "cell_type": "code",
   "execution_count": 3,
   "metadata": {},
   "outputs": [],
   "source": [
    "import numpy as np\n",
    "\n",
    "estimator_options = {\n",
    "    \"resilience\": {\n",
    "        \"measure_mitigation\": True,\n",
    "        \"zne_mitigation\": True,\n",
    "        \"zne\": {\n",
    "            \"amplifier\": \"gate_folding\",\n",
    "            \"noise_factors\": [1, 2, 3],\n",
    "            \"extrapolated_noise_factors\": list(np.linspace(0, 3, 31)),\n",
    "            \"extrapolator\": [\"exponential\", \"linear\", \"fallback\"],\n",
    "        },\n",
    "        \"measure_noise_learning\": {\n",
    "            \"num_randomizations\": 512,\n",
    "            \"shots_per_randomization\": 512,\n",
    "        },\n",
    "    },\n",
    "    \"twirling\": {\n",
    "        \"enable_gates\": True,\n",
    "        \"enable_measure\": True,\n",
    "        \"num_randomizations\": 300,\n",
    "        \"shots_per_randomization\": 100,\n",
    "        \"strategy\": \"active\",\n",
    "    },\n",
    "}"
   ]
  },
  {
   "cell_type": "markdown",
   "metadata": {},
   "source": [
    "### Set up our Hamiltonian and observable"
   ]
  },
  {
   "cell_type": "markdown",
   "metadata": {},
   "source": [
    "For the purposes of this notebook, we use the XXZ model on a chain with open boundary conditions:\n",
    "\n",
    "$$\n",
    "\\hat{\\mathcal{H}}_{XXZ} = \\sum_{i=1}^{L-1} J_{i,(i+1)}\\left(X_i X_{(i+1)}+Y_i Y_{(i+1)}+ 2\\cdot Z_i Z_{(i+1)} \\right) \\, ,\n",
    "$$\n",
    "\n",
    "where $J_{i,(i+1)}$ is a random coefficient corresponding to edge $(i, i+1)$"
   ]
  },
  {
   "cell_type": "code",
   "execution_count": 4,
   "metadata": {},
   "outputs": [],
   "source": [
    "from qiskit.quantum_info import SparsePauliOp, Pauli\n",
    "from qiskit.transpiler import CouplingMap\n",
    "from rustworkx.visualization import graphviz_draw\n",
    "\n",
    "L = 50  # L = length of our 1D spin chain\n",
    "\n",
    "# Generate the edge-list for this spin-chain\n",
    "elist = [(i - 1, i) for i in range(1, L)]\n",
    "# Generate an edge-coloring so we can make hw-efficient circuits\n",
    "even_edges = elist[::2]\n",
    "odd_edges = elist[1::2]\n",
    "\n",
    "# Instantiate a CouplingMap object\n",
    "coupling_map = CouplingMap(elist)\n",
    "graphviz_draw(coupling_map.graph, method=\"circo\")\n",
    "\n",
    "# Generate random coefficients for our XXZ Hamiltonian\n",
    "np.random.seed(0)\n",
    "Js = np.random.rand(L - 1) + 0.5 * np.ones(L - 1)\n",
    "\n",
    "hamiltonian = SparsePauliOp(Pauli(\"I\" * L))\n",
    "for i, edge in enumerate(even_edges + odd_edges):\n",
    "    hamiltonian += SparsePauliOp.from_sparse_list(\n",
    "        [\n",
    "            (\"XX\", (edge), Js[i] / 2),\n",
    "            (\"YY\", (edge), Js[i] / 2),\n",
    "            (\"ZZ\", (edge), Js[i]),\n",
    "        ],\n",
    "        num_qubits=L,\n",
    "    )\n",
    "\n",
    "observable = SparsePauliOp.from_sparse_list(\n",
    "    [(\"ZZ\", (L // 2 - 1, L // 2), 1.0)], num_qubits=L\n",
    ")"
   ]
  },
  {
   "cell_type": "code",
   "execution_count": 5,
   "metadata": {},
   "outputs": [],
   "source": [
    "# print(\"Hamiltonian:\", hamiltonian)"
   ]
  },
  {
   "cell_type": "code",
   "execution_count": 6,
   "metadata": {},
   "outputs": [
    {
     "name": "stdout",
     "output_type": "stream",
     "text": [
      "Observable: SparsePauliOp(['IIIIIIIIIIIIIIIIIIIIIIIIZZIIIIIIIIIIIIIIIIIIIIIIII'],\n",
      "              coeffs=[1.+0.j])\n"
     ]
    }
   ],
   "source": [
    "print(\"Observable:\", observable)"
   ]
  },
  {
   "cell_type": "markdown",
   "metadata": {},
   "source": [
    "## Step 1: Map to quantum problem"
   ]
  },
  {
   "cell_type": "markdown",
   "metadata": {},
   "source": [
    "### Generate an initial state"
   ]
  },
  {
   "cell_type": "code",
   "execution_count": 7,
   "metadata": {},
   "outputs": [
    {
     "name": "stdout",
     "output_type": "stream",
     "text": [
      "Initializing to Neel state\n"
     ]
    }
   ],
   "source": [
    "from qiskit import QuantumCircuit\n",
    "\n",
    "print(\"Initializing to Neel state\")\n",
    "L = hamiltonian.num_qubits\n",
    "# Generate an initial state\n",
    "initial_state = QuantumCircuit(L)\n",
    "for i in range(L):\n",
    "    if i % 2:\n",
    "        initial_state.x(i)"
   ]
  },
  {
   "cell_type": "markdown",
   "metadata": {},
   "source": [
    "### Construct the AQC target circuit\n",
    "\n",
    "Because this is being simulated by a tensor-network simulator, the number of layers affects execution time only by a constant factor, so we might as well use a generous number of layers to minimize Trotter error."
   ]
  },
  {
   "cell_type": "code",
   "execution_count": 8,
   "metadata": {},
   "outputs": [],
   "source": [
    "from qiskit.synthesis import SuzukiTrotter\n",
    "from qiskit_addon_utils.problem_generators import generate_time_evolution_circuit\n",
    "\n",
    "aqc_target_circuit = initial_state.copy()\n",
    "if aqc_evolution_time:\n",
    "    aqc_target_circuit.compose(\n",
    "        generate_time_evolution_circuit(\n",
    "            hamiltonian,\n",
    "            synthesis=SuzukiTrotter(reps=aqc_target_num_trotter_steps),\n",
    "            time=aqc_evolution_time,\n",
    "        ),\n",
    "        inplace=True,\n",
    "    )"
   ]
  },
  {
   "cell_type": "markdown",
   "metadata": {},
   "source": [
    "### Generate an ansatz and initial parameters from a Trotter circuit with fewer steps\n",
    "\n",
    "First, we construct a \"good\" circuit that has the same evolution time as the target circuit, but with fewer Trotter steps (and thus fewer layers).\n",
    "\n",
    "Then we pass this \"good\" circuit to AQC-Tensor's `generate_ansatz_from_circuit` function.  This function analyzes the two-qubit connectivity of the circuit and returns two things:\n",
    "1. a general, parametrized ansatz circuit with the same two-qubit connectivity as the input circuit; and,\n",
    "2. parameters that, when plugged into the ansatz, yield the input (good) circuit.\n",
    "\n",
    "Soon we will take these parameters and iteratively adjust them to bring the ansatz circuit as close as possible to the target MPS."
   ]
  },
  {
   "cell_type": "code",
   "execution_count": 9,
   "metadata": {},
   "outputs": [
    {
     "name": "stdout",
     "output_type": "stream",
     "text": [
      "Number of AQC parameters: 816\n"
     ]
    }
   ],
   "source": [
    "from qiskit_addon_aqc_tensor.ansatz_generation import (\n",
    "    generate_ansatz_from_circuit,\n",
    "    AnsatzBlock,\n",
    ")\n",
    "\n",
    "aqc_good_circuit = initial_state.copy()\n",
    "if aqc_evolution_time:\n",
    "    aqc_good_circuit.compose(\n",
    "        generate_time_evolution_circuit(\n",
    "            hamiltonian,\n",
    "            synthesis=SuzukiTrotter(reps=aqc_ansatz_num_trotter_steps),\n",
    "            time=aqc_evolution_time,\n",
    "        ),\n",
    "        inplace=True,\n",
    "    )\n",
    "\n",
    "aqc_ansatz, aqc_initial_parameters = generate_ansatz_from_circuit(aqc_good_circuit)\n",
    "print(\"Number of AQC parameters:\", len(aqc_initial_parameters))\n",
    "output[\"num_aqc_parameters\"] = len(aqc_initial_parameters)"
   ]
  },
  {
   "cell_type": "markdown",
   "metadata": {},
   "source": [
    "### Choose settings for tensor network simulation\n",
    "\n",
    "Here, we use Quimb's matrix-product state (MPS) circuit simulator, along with [jax](https://github.com/jax-ml/jax) for providing the gradient."
   ]
  },
  {
   "cell_type": "code",
   "execution_count": 10,
   "metadata": {},
   "outputs": [],
   "source": [
    "import quimb.tensor\n",
    "\n",
    "from qiskit_addon_aqc_tensor.simulation.quimb import QuimbSimulator\n",
    "\n",
    "simulator_settings = QuimbSimulator(quimb.tensor.CircuitMPS, autodiff_backend=\"jax\")"
   ]
  },
  {
   "cell_type": "markdown",
   "metadata": {},
   "source": [
    "### Construct matrix-product state representation of the AQC target state\n",
    "\n",
    "Next, we build a matrix-product representation of the state to be approximated by AQC."
   ]
  },
  {
   "cell_type": "code",
   "execution_count": 11,
   "metadata": {},
   "outputs": [
    {
     "name": "stdout",
     "output_type": "stream",
     "text": [
      "Target MPS maximum bond dimension: 5\n"
     ]
    }
   ],
   "source": [
    "from qiskit_addon_aqc_tensor.simulation import tensornetwork_from_circuit\n",
    "\n",
    "aqc_target_mps = tensornetwork_from_circuit(aqc_target_circuit, simulator_settings)\n",
    "print(\"Target MPS maximum bond dimension:\", aqc_target_mps.psi.max_bond())\n",
    "output[\"target_bond_dimension\"] = aqc_target_mps.psi.max_bond()"
   ]
  },
  {
   "cell_type": "markdown",
   "metadata": {},
   "source": [
    "### Calculate fidelity of ansatz circuit vs. the target state, before optimization\n",
    "\n",
    "We can calculate the fidelity ($|\\langle \\psi_1 | \\psi_2 \\rangle|^2$) of the state prepared by the ansatz circuit vs. the target state:"
   ]
  },
  {
   "cell_type": "code",
   "execution_count": 12,
   "metadata": {},
   "outputs": [
    {
     "name": "stdout",
     "output_type": "stream",
     "text": [
      "Starting fidelity of AQC portion: 0.992646691992252\n"
     ]
    }
   ],
   "source": [
    "from qiskit_addon_aqc_tensor.simulation import compute_overlap\n",
    "\n",
    "good_mps = tensornetwork_from_circuit(aqc_good_circuit, simulator_settings)\n",
    "starting_fidelity = abs(compute_overlap(good_mps, aqc_target_mps)) ** 2\n",
    "print(\"Starting fidelity of AQC portion:\", starting_fidelity)\n",
    "output[\"aqc_starting_fidelity\"] = starting_fidelity"
   ]
  },
  {
   "cell_type": "markdown",
   "metadata": {},
   "source": [
    "### Optimize the parameters of the ansatz using MPS calculations\n",
    "\n",
    "Here, we minimize the simplest possible cost function, `OneMinusFidelity`, by using the L-BFGS optimizer from scipy."
   ]
  },
  {
   "cell_type": "code",
   "execution_count": 13,
   "metadata": {},
   "outputs": [
    {
     "name": "stderr",
     "output_type": "stream",
     "text": [
      "An NVIDIA GPU may be present on this machine, but a CUDA-enabled jaxlib is not installed. Falling back to cpu.\n"
     ]
    },
    {
     "name": "stdout",
     "output_type": "stream",
     "text": [
      "2024-11-13 13:49:30.556203 Intermediate result: Fidelity 0.99795494\n",
      "2024-11-13 13:49:30.759449 Intermediate result: Fidelity 0.99822779\n",
      "2024-11-13 13:49:30.950140 Intermediate result: Fidelity 0.99829496\n",
      "2024-11-13 13:49:31.137908 Intermediate result: Fidelity 0.99832307\n",
      "2024-11-13 13:49:31.329067 Intermediate result: Fidelity 0.99836178\n",
      "2024-11-13 13:49:31.531953 Intermediate result: Fidelity 0.99840097\n",
      "2024-11-13 13:49:31.737910 Intermediate result: Fidelity 0.99846732\n",
      "2024-11-13 13:49:31.903197 Intermediate result: Fidelity 0.99865148\n",
      "2024-11-13 13:49:32.096697 Intermediate result: Fidelity 0.99872368\n",
      "2024-11-13 13:49:32.334789 Intermediate result: Fidelity 0.99892014\n",
      "2024-11-13 13:49:32.610886 Intermediate result: Fidelity 0.99900699\n",
      "2024-11-13 13:49:32.862487 Intermediate result: Fidelity 0.99907134\n",
      "2024-11-13 13:49:33.061862 Intermediate result: Fidelity 0.99911483\n",
      "2024-11-13 13:49:33.245037 Intermediate result: Fidelity 0.99918406\n",
      "2024-11-13 13:49:33.475835 Intermediate result: Fidelity 0.99921445\n",
      "2024-11-13 13:49:33.667442 Intermediate result: Fidelity 0.99924805\n",
      "2024-11-13 13:49:33.872373 Intermediate result: Fidelity 0.99929131\n",
      "2024-11-13 13:49:34.080434 Intermediate result: Fidelity 0.99933063\n",
      "2024-11-13 13:49:34.336019 Intermediate result: Fidelity 0.99935578\n",
      "2024-11-13 13:49:34.530345 Intermediate result: Fidelity 0.99938223\n",
      "2024-11-13 13:49:34.803448 Intermediate result: Fidelity 0.99940631\n",
      "2024-11-13 13:49:35.064862 Intermediate result: Fidelity 0.99943801\n",
      "2024-11-13 13:49:35.345852 Intermediate result: Fidelity 0.99946589\n",
      "2024-11-13 13:49:35.611110 Intermediate result: Fidelity 0.99948389\n",
      "2024-11-13 13:49:35.888467 Intermediate result: Fidelity 0.99950868\n",
      "2024-11-13 13:49:36.206332 Intermediate result: Fidelity 0.99954265\n",
      "2024-11-13 13:49:36.469512 Intermediate result: Fidelity 0.99955611\n",
      "2024-11-13 13:49:36.690687 Intermediate result: Fidelity 0.99959175\n",
      "2024-11-13 13:49:36.903504 Intermediate result: Fidelity 0.99960224\n",
      "2024-11-13 13:49:37.085481 Intermediate result: Fidelity 0.99961690\n",
      "2024-11-13 13:49:37.274532 Intermediate result: Fidelity 0.99962560\n",
      "2024-11-13 13:49:37.471070 Intermediate result: Fidelity 0.99963776\n",
      "2024-11-13 13:49:37.696976 Intermediate result: Fidelity 0.99964574\n",
      "2024-11-13 13:49:37.954588 Intermediate result: Fidelity 0.99965087\n",
      "2024-11-13 13:49:38.216460 Intermediate result: Fidelity 0.99965695\n",
      "2024-11-13 13:49:38.498424 Intermediate result: Fidelity 0.99966743\n",
      "2024-11-13 13:49:38.772623 Intermediate result: Fidelity 0.99967244\n",
      "2024-11-13 13:49:39.073649 Intermediate result: Fidelity 0.99968495\n",
      "2024-11-13 13:49:39.357298 Intermediate result: Fidelity 0.99968817\n",
      "2024-11-13 13:49:39.606370 Intermediate result: Fidelity 0.99969807\n",
      "2024-11-13 13:49:39.813909 Intermediate result: Fidelity 0.99970236\n",
      "2024-11-13 13:49:40.024568 Intermediate result: Fidelity 0.99970724\n",
      "2024-11-13 13:49:40.228292 Intermediate result: Fidelity 0.99971142\n",
      "2024-11-13 13:49:40.515577 Intermediate result: Fidelity 0.99971523\n",
      "2024-11-13 13:49:40.768985 Intermediate result: Fidelity 0.99971964\n",
      "2024-11-13 13:49:40.964398 Intermediate result: Fidelity 0.99972107\n",
      "2024-11-13 13:49:41.222678 Intermediate result: Fidelity 0.99972584\n",
      "2024-11-13 13:49:41.935869 Intermediate result: Fidelity 0.99972798\n",
      "2024-11-13 13:49:42.139917 Intermediate result: Fidelity 0.99972953\n",
      "2024-11-13 13:49:42.364804 Intermediate result: Fidelity 0.99973275\n",
      "2024-11-13 13:49:42.568188 Intermediate result: Fidelity 0.99973859\n",
      "2024-11-13 13:49:42.850191 Intermediate result: Fidelity 0.99973919\n",
      "2024-11-13 13:49:43.087883 Intermediate result: Fidelity 0.99974407\n",
      "2024-11-13 13:49:43.295317 Intermediate result: Fidelity 0.99974646\n",
      "2024-11-13 13:49:43.515902 Intermediate result: Fidelity 0.99974682\n",
      "2024-11-13 13:49:43.722754 Intermediate result: Fidelity 0.99975206\n",
      "2024-11-13 13:49:43.998411 Intermediate result: Fidelity 0.99975480\n",
      "2024-11-13 13:49:44.290365 Intermediate result: Fidelity 0.99975576\n",
      "2024-11-13 13:49:44.503478 Intermediate result: Fidelity 0.99975981\n",
      "2024-11-13 13:49:44.757602 Intermediate result: Fidelity 0.99976052\n",
      "2024-11-13 13:49:46.639690 Intermediate result: Fidelity 0.99976422\n",
      "2024-11-13 13:49:46.801376 Intermediate result: Fidelity 0.99976744\n",
      "2024-11-13 13:49:47.011056 Intermediate result: Fidelity 0.99976851\n",
      "2024-11-13 13:49:47.242615 Intermediate result: Fidelity 0.99977268\n",
      "2024-11-13 13:49:47.474141 Intermediate result: Fidelity 0.99977745\n",
      "2024-11-13 13:49:47.670899 Intermediate result: Fidelity 0.99978055\n",
      "2024-11-13 13:49:48.009058 Intermediate result: Fidelity 0.99978234\n",
      "2024-11-13 13:49:48.278675 Intermediate result: Fidelity 0.99978567\n",
      "2024-11-13 13:49:48.480548 Intermediate result: Fidelity 0.99978961\n",
      "2024-11-13 13:49:49.284997 Intermediate result: Fidelity 0.99979199\n",
      "2024-11-13 13:49:49.485268 Intermediate result: Fidelity 0.99979318\n",
      "2024-11-13 13:49:49.705178 Intermediate result: Fidelity 0.99979509\n",
      "2024-11-13 13:49:50.553821 Intermediate result: Fidelity 0.99979557\n",
      "2024-11-13 13:49:50.772586 Intermediate result: Fidelity 0.99979831\n",
      "2024-11-13 13:49:50.967046 Intermediate result: Fidelity 0.99979974\n",
      "2024-11-13 13:49:54.246857 Intermediate result: Fidelity 0.99979974\n",
      "Done after 76 iterations.\n"
     ]
    }
   ],
   "source": [
    "import datetime\n",
    "from scipy.optimize import OptimizeResult, minimize\n",
    "\n",
    "from qiskit_addon_aqc_tensor.objective import OneMinusFidelity\n",
    "\n",
    "objective = OneMinusFidelity(aqc_target_mps, aqc_ansatz, simulator_settings)\n",
    "\n",
    "stopping_point = 1.0 - aqc_stopping_fidelity\n",
    "\n",
    "\n",
    "def callback(intermediate_result: OptimizeResult):\n",
    "    fidelity = 1 - intermediate_result.fun\n",
    "    print(f\"{datetime.datetime.now()} Intermediate result: Fidelity {fidelity:.8f}\")\n",
    "    if intermediate_result.fun < stopping_point:\n",
    "        # Good enough for now\n",
    "        raise StopIteration\n",
    "\n",
    "\n",
    "result = minimize(\n",
    "    objective,\n",
    "    aqc_initial_parameters,\n",
    "    method=\"L-BFGS-B\",\n",
    "    jac=True,\n",
    "    options={\"maxiter\": aqc_max_iterations},\n",
    "    callback=callback,\n",
    ")\n",
    "if result.status not in (\n",
    "    0,\n",
    "    1,\n",
    "    99,\n",
    "):  # 0 => success; 1 => max iterations reached; 99 => early termination via StopIteration\n",
    "    raise RuntimeError(\n",
    "        f\"Optimization failed: {result.message} (status={result.status})\"\n",
    "    )\n",
    "\n",
    "print(f\"Done after {result.nit} iterations.\")\n",
    "output[\"num_iterations\"] = result.nit\n",
    "aqc_final_parameters = result.x"
   ]
  },
  {
   "cell_type": "code",
   "execution_count": 14,
   "metadata": {
    "scrolled": true
   },
   "outputs": [],
   "source": [
    "output[\"aqc_final_parameters\"] = list(aqc_final_parameters)"
   ]
  },
  {
   "cell_type": "markdown",
   "metadata": {},
   "source": [
    "### Construct optimized circuit for initial portion of time evolution\n",
    "\n",
    "At this point, it is only necessary to find the final parameters to the ansatz circuit."
   ]
  },
  {
   "cell_type": "code",
   "execution_count": 15,
   "metadata": {},
   "outputs": [],
   "source": [
    "aqc_final_circuit = aqc_ansatz.assign_parameters(aqc_final_parameters)"
   ]
  },
  {
   "cell_type": "markdown",
   "metadata": {},
   "source": [
    "### Calculate fidelity after optimization"
   ]
  },
  {
   "cell_type": "code",
   "execution_count": 16,
   "metadata": {},
   "outputs": [
    {
     "name": "stdout",
     "output_type": "stream",
     "text": [
      "Fidelity of AQC portion: 0.9998053977967628\n"
     ]
    }
   ],
   "source": [
    "aqc_final_mps = tensornetwork_from_circuit(aqc_final_circuit, simulator_settings)\n",
    "aqc_fidelity = abs(compute_overlap(aqc_final_mps, aqc_target_mps)) ** 2\n",
    "print(\"Fidelity of AQC portion:\", aqc_fidelity)\n",
    "output[\"aqc_fidelity\"] = aqc_fidelity"
   ]
  },
  {
   "cell_type": "markdown",
   "metadata": {},
   "source": [
    "### Construct final circuit, with remainder of time evolution"
   ]
  },
  {
   "cell_type": "code",
   "execution_count": 17,
   "metadata": {},
   "outputs": [],
   "source": [
    "final_circuit = aqc_final_circuit.copy()\n",
    "if remainder_evolution_time:\n",
    "    remainder_circuit = generate_time_evolution_circuit(\n",
    "        hamiltonian,\n",
    "        synthesis=SuzukiTrotter(reps=remainder_num_trotter_steps),\n",
    "        time=remainder_evolution_time,\n",
    "    )\n",
    "    final_circuit.compose(remainder_circuit, inplace=True)"
   ]
  },
  {
   "cell_type": "markdown",
   "metadata": {},
   "source": [
    "## Step 2: Transpile circuits into ISA Circuits"
   ]
  },
  {
   "cell_type": "markdown",
   "metadata": {},
   "source": [
    "#### Transpile PUBs (circuits and observables) to match the backend ISA (Instruction Set Architecture)\n",
    "By selecting `optimization_level=3`, the transpiler will choose a 1D chain of qubits which minimizes the noise affecting our circuit. Once we have converted our circuits into the format that the backend is prepared to accept, we will apply a complimentary transformation to our observables as well. "
   ]
  },
  {
   "cell_type": "code",
   "execution_count": 18,
   "metadata": {},
   "outputs": [],
   "source": [
    "from qiskit_ibm_runtime import QiskitRuntimeService\n",
    "from qiskit.transpiler.preset_passmanagers import generate_preset_pass_manager\n",
    "\n",
    "service = QiskitRuntimeService()\n",
    "backend = service.backend(backend_name)\n",
    "\n",
    "# Transpile pubs (circuits and observables) to match ISA\n",
    "pass_manager = generate_preset_pass_manager(backend=backend, optimization_level=3)\n",
    "isa_circuit = pass_manager.run(final_circuit)\n",
    "isa_observable = observable.apply_layout(isa_circuit.layout)"
   ]
  },
  {
   "cell_type": "code",
   "execution_count": 19,
   "metadata": {},
   "outputs": [
    {
     "name": "stdout",
     "output_type": "stream",
     "text": [
      "ISA circuit two-qubit depth: 33\n"
     ]
    }
   ],
   "source": [
    "isa_2qubit_depth = isa_circuit.depth(lambda x: x.operation.num_qubits == 2)\n",
    "print(\"ISA circuit two-qubit depth:\", isa_2qubit_depth)\n",
    "output[\"twoqubit_depth\"] = isa_2qubit_depth"
   ]
  },
  {
   "cell_type": "code",
   "execution_count": 20,
   "metadata": {},
   "outputs": [],
   "source": [
    "if dry_run:\n",
    "    import sys\n",
    "\n",
    "    print(\"Aborting before hardware execution since `dry_run` is True.\")\n",
    "    sys.exit(0)"
   ]
  },
  {
   "cell_type": "markdown",
   "metadata": {},
   "source": [
    "## Step 3: Execute quantum experiments on backend"
   ]
  },
  {
   "cell_type": "markdown",
   "metadata": {},
   "source": [
    "#### Execute experiments / load previous results from disk\n",
    "Here is where we would initiate our experiments through runtime, however, for the purposes of this demo, we will instead be loading previously run results from disk."
   ]
  },
  {
   "cell_type": "code",
   "execution_count": 21,
   "metadata": {},
   "outputs": [],
   "source": [
    "from pathlib import Path\n",
    "import dill\n",
    "from qiskit_ibm_runtime import EstimatorV2 as Estimator\n",
    "\n",
    "\n",
    "perform_hw_expt = False\n",
    "hw_results_filename = \"hw_results_aqc.pkl\"\n",
    "\n",
    "if perform_hw_expt:\n",
    "    estimator = Estimator(backend, options=estimator_options)\n",
    "\n",
    "    # Submit job\n",
    "    job = estimator.run([(isa_circuit, isa_observable)])\n",
    "    print(\"Job ID:\", job.job_id())\n",
    "    output[\"job_id\"] = job.job_id()\n",
    "\n",
    "    # Wait until job is complete\n",
    "    hw_results = job.result()\n",
    "    hw_results_dicts = [pub_result.data.__dict__ for pub_result in hw_results]\n",
    "\n",
    "    # Save results to disk\n",
    "    Path(hw_results_filename).parent.mkdir(parents=True, exist_ok=True)\n",
    "    with open(hw_results_filename, \"wb\") as f:\n",
    "        dill.dump([hw_results_dicts, estimator_options], f)"
   ]
  },
  {
   "cell_type": "code",
   "execution_count": 22,
   "metadata": {},
   "outputs": [
    {
     "name": "stdout",
     "output_type": "stream",
     "text": [
      "Hardware expectation values [-0.5936601356790457]\n"
     ]
    }
   ],
   "source": [
    "# Load results from disk\n",
    "with open(hw_results_filename, \"rb\") as f:\n",
    "    hw_results_dicts, estimator_options = dill.load(f)\n",
    "\n",
    "# Save hardware results to serverless\n",
    "output[\"hw_results\"] = hw_results_dicts\n",
    "\n",
    "# Re-organize expectation values\n",
    "hw_expvals = [pub_result_data[\"evs\"].tolist() for pub_result_data in hw_results_dicts]\n",
    "\n",
    "# Save expectation values to serverless\n",
    "print(\"Hardware expectation values\", hw_expvals)\n",
    "output[\"hw_expvals\"] = hw_expvals[0]"
   ]
  },
  {
   "cell_type": "markdown",
   "metadata": {},
   "source": [
    "## Step 4: Report expectation value\n",
    "\n",
    "Now we can compare the expectation value with its exact result for the parameters."
   ]
  },
  {
   "cell_type": "code",
   "execution_count": 23,
   "metadata": {},
   "outputs": [
    {
     "name": "stdout",
     "output_type": "stream",
     "text": [
      "Exact:\t\t-0.5887\n",
      "With AQC:\t-0.5937 ± 0.0902, |∆| = 0.0050\n",
      "Without AQC:\t-0.6243 ± 0.1904, |∆| = 0.0356\n"
     ]
    }
   ],
   "source": [
    "# This comes from a tensor network calculation,\n",
    "ref_expval = -0.5887\n",
    "print(f\"Exact:\\t\\t{ref_expval:.4f}\")\n",
    "\n",
    "print(f\"With AQC:\\t{hw_expvals[0]:.4f} ± {hw_results_dicts[0][\"stds\"].item():.4f}, |∆| = {np.abs(ref_expval - hw_expvals[0]):.4f}\")\n",
    "\n",
    "with open(\"hw_results_comparison.pkl\", \"rb\") as f:\n",
    "    hw_results_dicts_0, _ = dill.load(f)\n",
    "\n",
    "comparison_expval = hw_results_dicts_0[0][\"evs\"].item()\n",
    "comparison_std = hw_results_dicts_0[0][\"stds\"].item()\n",
    "print(f\"Without AQC:\\t{comparison_expval:.4f} ± {comparison_std:.4f}, |∆| = {np.abs(ref_expval - comparison_expval):.4f}\")"
   ]
  },
  {
   "cell_type": "markdown",
   "metadata": {},
   "source": [
    "And we can examine the dictionary that holds the result."
   ]
  },
  {
   "cell_type": "code",
   "execution_count": null,
   "metadata": {},
   "outputs": [],
   "source": [
    "output"
   ]
  }
 ],
 "metadata": {
  "kernelspec": {
   "display_name": "Python 3 (ipykernel)",
   "language": "python",
   "name": "python3"
  },
  "language_info": {
   "codemirror_mode": {
    "name": "ipython",
    "version": 3
   },
   "file_extension": ".py",
   "mimetype": "text/x-python",
   "name": "python",
   "nbconvert_exporter": "python",
   "pygments_lexer": "ipython3",
   "version": "3.11.10"
  },
  "nbdime-conflicts": {
   "local_diff": [
    {
     "diff": [
      {
       "diff": [
        {
         "key": 0,
         "op": "addrange",
         "valuelist": [
          "3.12.4"
         ]
        },
        {
         "key": 0,
         "length": 1,
         "op": "removerange"
        }
       ],
       "key": "version",
       "op": "patch"
      }
     ],
     "key": "language_info",
     "op": "patch"
    }
   ],
   "remote_diff": [
    {
     "diff": [
      {
       "diff": [
        {
         "key": 0,
         "op": "addrange",
         "valuelist": [
          "3.12.3"
         ]
        },
        {
         "key": 0,
         "length": 1,
         "op": "removerange"
        }
       ],
       "key": "version",
       "op": "patch"
      }
     ],
     "key": "language_info",
     "op": "patch"
    }
   ]
  }
 },
 "nbformat": 4,
 "nbformat_minor": 4
}
