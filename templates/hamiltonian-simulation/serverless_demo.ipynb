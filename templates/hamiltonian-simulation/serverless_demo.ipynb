{
 "cells": [
  {
   "cell_type": "markdown",
   "id": "512492cd-d547-492b-8755-57355d9d3ac8",
   "metadata": {},
   "source": [
    "# Qiskit serverless demonstration: Hamiltonian simulation template"
   ]
  },
  {
   "cell_type": "markdown",
   "id": "95f53da7-ae60-4ccf-9b3f-32b8e44f8548",
   "metadata": {},
   "source": [
    "### Convert notebook to a Qiskit Serverless program\n",
    "\n",
    "Here we use `nbconvert` to convert the Jupyter notebook to a Python program (`.py` file)."
   ]
  },
  {
   "cell_type": "code",
   "execution_count": 1,
   "id": "05f325fa-8372-4e4f-b12d-627213168aaa",
   "metadata": {},
   "outputs": [
    {
     "name": "stdout",
     "output_type": "stream",
     "text": [
      "Notebook saved to source_files/hamsim_template.py\n"
     ]
    }
   ],
   "source": [
    "from pathlib import Path\n",
    "from nbconvert.exporters import ScriptExporter\n",
    "\n",
    "notebook_filename = \"hamsim_template.ipynb\"\n",
    "source_path = Path(\"./source_files/\")\n",
    "source_path.mkdir(exist_ok=True)\n",
    "script, script_info = ScriptExporter().from_filename(notebook_filename)\n",
    "script_name = script_info[\"metadata\"][\"name\"]\n",
    "script_file = source_path / (script_name + script_info[\"output_extension\"])\n",
    "with script_file.open(\"w\") as f:\n",
    "    f.write(script)\n",
    "print(f\"Notebook saved to {script_file}\")"
   ]
  },
  {
   "cell_type": "code",
   "execution_count": 2,
   "id": "94d2dafd-2c5d-4ec2-812c-60060a8bb26e",
   "metadata": {},
   "outputs": [
    {
     "name": "stdout",
     "output_type": "stream",
     "text": [
      "#!/usr/bin/env python\n",
      "# coding: utf-8\n",
      "\n",
      "# # Reducing the Trotter error of Hamiltonian dynamics with <span style=\"color:black\">approximate quantum compilation</span>\n",
      "# \n",
      "# In this notebook, you will learn how to use **Approximate Quantum Compilation with Tensor Networks (AQC-Tensor)**.\n",
      "# \n",
      "# This notebook can be executed either directly or as a Qiskit Serverless program (see [accompanying notebook](serverless_demo.ipynb)).  In a few places it behaves differently based on how it is called (i.e., by branching on the value of `is_running_in_serverless()`).\n",
      "# \n",
      "# Our overall goal is to simulate time evolution of the above model Hamiltonian.  We do so by Trotter evolution, which we split into two portions:\n",
      "# \n",
      "# 1. An initial portion that is simulable with matrix product states (MPS).  We will \"compile\" this portion using AQC as presented in https://arxiv.org/abs/2301.08609.\n",
      "# 2. A subsequent portion of the circuit that will be executed only on hardware.\n",
      "\n",
      "# ### Set parameters for function template\n",
      "\n",
      "# In[1]:\n",
      "\n",
      "\n",
      "# mypy: ignore-errors\n",
      "from qiskit_serverless import get_arguments, save_result, is_running_in_serverless\n",
      "\n",
      "\n",
      "output = {}\n",
      "\n",
      " \n",
      "[...]\n"
     ]
    }
   ],
   "source": [
    "with script_file.open() as f:\n",
    "    print(\"\".join(f.readlines()[:25]), \"\\n[...]\")"
   ]
  },
  {
   "cell_type": "markdown",
   "id": "5e9c99fa-a4a8-433b-9c9a-cf25bddc2c6d",
   "metadata": {},
   "source": [
    "### Upload template to serverless"
   ]
  },
  {
   "cell_type": "code",
   "execution_count": 3,
   "id": "31226d40-be87-4069-9fdb-d9015dcd5e16",
   "metadata": {},
   "outputs": [
    {
     "name": "stdout",
     "output_type": "stream",
     "text": [
      "Uploaded program: hamsim_template\n"
     ]
    }
   ],
   "source": [
    "from qiskit_ibm_catalog import QiskitServerless, QiskitFunction\n",
    "\n",
    "title = script_file.stem\n",
    "\n",
    "template = QiskitFunction(\n",
    "    title=script_file.stem,\n",
    "    entrypoint=script_file.name,\n",
    "    working_dir=str(source_path),\n",
    "    dependencies=[\n",
    "        \"qiskit-addon-utils~=0.1.0\",\n",
    "        \"qiskit-addon-aqc-tensor[quimb-jax]~=0.1.2\",\n",
    "        \"mergedeep==1.3.4\",\n",
    "    ],\n",
    ")\n",
    "\n",
    "serverless = QiskitServerless()\n",
    "serverless.upload(template)\n",
    "print(f\"Uploaded program: {title}\")"
   ]
  },
  {
   "cell_type": "code",
   "execution_count": 4,
   "id": "f4935f39-9c29-442a-9ab8-68fb21b86ab9",
   "metadata": {},
   "outputs": [
    {
     "data": {
      "text/plain": [
       "[QiskitFunction(hamsim_template),\n",
       " QiskitFunction(function_template_hamsim),\n",
       " QiskitFunction(template_hamiltonian_simulation),\n",
       " QiskitFunction(aqc_tutorial_L50)]"
      ]
     },
     "execution_count": 4,
     "metadata": {},
     "output_type": "execute_result"
    }
   ],
   "source": [
    "serverless.list()"
   ]
  },
  {
   "cell_type": "markdown",
   "id": "31f63fd6-0fd0-49f4-9fd0-e22bf413f8d6",
   "metadata": {},
   "source": [
    "### Load the template"
   ]
  },
  {
   "cell_type": "code",
   "execution_count": 5,
   "id": "b0d19778-4ee7-4205-a4c8-e1cafc50752d",
   "metadata": {},
   "outputs": [],
   "source": [
    "template = serverless.load(title)"
   ]
  },
  {
   "cell_type": "markdown",
   "id": "61ca636d-dfb8-4e4e-a3a1-7ed974950714",
   "metadata": {},
   "source": [
    "### Prepare hamiltonian and observable"
   ]
  },
  {
   "cell_type": "code",
   "execution_count": 6,
   "id": "21b415a9-0888-4fe4-a969-35dabe8aca63",
   "metadata": {},
   "outputs": [],
   "source": [
    "from qiskit.quantum_info import SparsePauliOp\n",
    "\n",
    "hamiltonian = SparsePauliOp.from_sparse_list(\n",
    "    [(\"XX\", (i, i + 1), 1.0) for i in range(3)], num_qubits=4\n",
    ") + SparsePauliOp.from_sparse_list(\n",
    "    [(\"YY\", (i, i + 1), 1.0) for i in range(3)], num_qubits=4\n",
    ")\n",
    "observable = SparsePauliOp.from_sparse_list([(\"ZZ\", (1, 2), 1.0)], num_qubits=4)"
   ]
  },
  {
   "cell_type": "markdown",
   "id": "2b801bef-c8e9-4670-9784-5dc5da738f41",
   "metadata": {},
   "source": [
    "### Run the template"
   ]
  },
  {
   "cell_type": "code",
   "execution_count": 7,
   "id": "6bd04854-0f3c-480c-a734-313b4f34efcb",
   "metadata": {},
   "outputs": [],
   "source": [
    "job = template.run(\n",
    "    dry_run=True,\n",
    "    hamiltonian=hamiltonian,\n",
    "    observable=observable,\n",
    "    backend_name=\"ibm_fez\",\n",
    "    estimator_options={},\n",
    "    aqc_evolution_time=0.2,\n",
    "    aqc_ansatz_num_trotter_steps=1,\n",
    "    aqc_target_num_trotter_steps=32,\n",
    "    remainder_evolution_time=0.2,\n",
    "    remainder_num_trotter_steps=4,\n",
    "    aqc_max_iterations=300,\n",
    ")"
   ]
  },
  {
   "cell_type": "code",
   "execution_count": 8,
   "id": "a64dd2b1-dda2-4182-8601-5c4763323fae",
   "metadata": {},
   "outputs": [
    {
     "name": "stdout",
     "output_type": "stream",
     "text": [
      "3f0c98e8-b018-4243-828d-0bde255e09c1\n"
     ]
    }
   ],
   "source": [
    "print(job.job_id)"
   ]
  },
  {
   "cell_type": "markdown",
   "id": "ca3f6c67-7121-4aed-9772-8453a4dc95e5",
   "metadata": {},
   "source": [
    "### Check the logs (this will return any info about how AQC is behaving)"
   ]
  },
  {
   "cell_type": "code",
   "execution_count": 9,
   "id": "310a7391-9e5a-4687-b3be-bd09b5862ce2",
   "metadata": {},
   "outputs": [
    {
     "data": {
      "text/plain": [
       "'QUEUED'"
      ]
     },
     "execution_count": 9,
     "metadata": {},
     "output_type": "execute_result"
    }
   ],
   "source": [
    "job.status()"
   ]
  },
  {
   "cell_type": "code",
   "execution_count": 10,
   "id": "128fdcd8-14c0-40f6-846b-e3d846f7cc2a",
   "metadata": {},
   "outputs": [
    {
     "name": "stdout",
     "output_type": "stream",
     "text": [
      "No logs yet.\n"
     ]
    }
   ],
   "source": [
    "print(job.logs())"
   ]
  },
  {
   "cell_type": "markdown",
   "id": "ed632d41-e7ac-4a9a-929f-47c73ae743dd",
   "metadata": {},
   "source": [
    "### Get the final result (expectation value)"
   ]
  },
  {
   "cell_type": "code",
   "execution_count": 11,
   "id": "ccb5e1b4-1471-43c9-b4ba-8db0a277ecd5",
   "metadata": {},
   "outputs": [
    {
     "data": {
      "text/plain": [
       "{'num_aqc_parameters': 111,\n",
       " 'target_bond_dimension': 1,\n",
       " 'aqc_starting_fidelity': 0.9998469036435305,\n",
       " 'num_iterations': 3,\n",
       " 'aqc_final_parameters': [-3.141592650080301,\n",
       "  0.7854329738547067,\n",
       "  3.1415830013190655,\n",
       "  -3.141592648357701,\n",
       "  0.7854005829948971,\n",
       "  -4.771585317808193e-05,\n",
       "  1.0536177958486086e-08,\n",
       "  2.3561859299448105,\n",
       "  -1.9466309954997306e-07,\n",
       "  -3.1415926365909472,\n",
       "  0.13227782458785936,\n",
       "  3.1415877274788384,\n",
       "  0.10058281931584818,\n",
       "  -0.000210284967971987,\n",
       "  0.0003725528095780092,\n",
       "  -1.5708061121542478,\n",
       "  1.5708061752095683,\n",
       "  -0.7853632963554884,\n",
       "  -5.165520177604924e-05,\n",
       "  2.35619686381606,\n",
       "  -3.251384635320454e-08,\n",
       "  0.10113150879839808,\n",
       "  -0.0008073870800575787,\n",
       "  -3.793581123311004e-07,\n",
       "  -1.5707961759324534,\n",
       "  1.5708694553573799,\n",
       "  3.141590288828051,\n",
       "  2.6800637339568085e-07,\n",
       "  0.25355226093861927,\n",
       "  3.141592901481447,\n",
       "  0.09924986002645499,\n",
       "  3.1828626196469066e-07,\n",
       "  0.0005826564623252421,\n",
       "  2.087932624658035e-05,\n",
       "  1.3249363700428107,\n",
       "  3.1415977288979477,\n",
       "  3.0437936179787315e-07,\n",
       "  1.9903495471870327,\n",
       "  3.1415926919219896,\n",
       "  0.10063137399475715,\n",
       "  0.0006344645744590586,\n",
       "  -6.170291699753841e-05,\n",
       "  -1.5707946530626848,\n",
       "  1.5707992776533217,\n",
       "  3.6734223359049287,\n",
       "  -1.5708011603861944,\n",
       "  1.5708343761245829,\n",
       "  3.0093467240537928,\n",
       "  0.0986690986426043,\n",
       "  1.2590113266825226e-06,\n",
       "  0.0005250889024820352,\n",
       "  -3.141593062425439,\n",
       "  0.04612168126899503,\n",
       "  -4.4878228971543533e-07,\n",
       "  6.155041056665205e-06,\n",
       "  2.770397759781553,\n",
       "  3.1415868390069397,\n",
       "  0.19921303511497152,\n",
       "  -9.958560176075904e-06,\n",
       "  -0.0005809477498134955,\n",
       "  -1.9817250388694902e-05,\n",
       "  1.1358898103184771,\n",
       "  -1.1763074347292078e-06,\n",
       "  -1.5707817056873759,\n",
       "  1.5707961538506197,\n",
       "  4.71242730772076,\n",
       "  0.09866916298777909,\n",
       "  0.0010905387598248424,\n",
       "  -3.8540439627283816e-05,\n",
       "  -8.696219872201997e-07,\n",
       "  1.8597495316576977,\n",
       "  3.141591632472316,\n",
       "  -1.5707985467959331,\n",
       "  1.5708309363587778,\n",
       "  3.0778709247853837,\n",
       "  0.09925018383317537,\n",
       "  -0.00036029337726259543,\n",
       "  -0.00011368961081508166,\n",
       "  -1.5707948743109788,\n",
       "  1.5708022519737004,\n",
       "  3.387480345990204,\n",
       "  -1.570799273339577,\n",
       "  1.5707932753615077,\n",
       "  0.8158760839243593,\n",
       "  0.10061418328724725,\n",
       "  -4.3646302266085646e-07,\n",
       "  -0.0007870965161276542,\n",
       "  -3.141599011330227,\n",
       "  2.914971283541657,\n",
       "  6.247945336365239e-06,\n",
       "  -3.1415606345565603,\n",
       "  1.5708109723145287,\n",
       "  3.141592660440137,\n",
       "  0.1011210594305181,\n",
       "  2.4145069418707e-06,\n",
       "  -0.001207722686252212,\n",
       "  -6.773458521729703e-05,\n",
       "  1.253759834500667,\n",
       "  -2.1133820472935366e-05,\n",
       "  -3.1415871776898463,\n",
       "  1.3441057366254834,\n",
       "  3.1415926636183755,\n",
       "  0.10058970142716774,\n",
       "  0.00013377812871569962,\n",
       "  -0.00015862656934879335,\n",
       "  -3.141579389042976,\n",
       "  1.5708024367356543,\n",
       "  3.14159265860347,\n",
       "  -3.141614606778262,\n",
       "  2.82456467224735,\n",
       "  6.283185312666912],\n",
       " 'aqc_fidelity': 0.9999364836122492,\n",
       " 'twoqubit_depth': 91}"
      ]
     },
     "execution_count": 11,
     "metadata": {},
     "output_type": "execute_result"
    }
   ],
   "source": [
    "job.result()"
   ]
  },
  {
   "cell_type": "code",
   "execution_count": 12,
   "id": "3c6ab5e2-8c22-435d-b773-757a7ed075a4",
   "metadata": {},
   "outputs": [
    {
     "name": "stdout",
     "output_type": "stream",
     "text": [
      "2024-12-18 14:25:53,111\tINFO job_manager.py:531 -- Runtime env is setting up.\n",
      "estimator_options = {\n",
      "    \"resilience\": {\n",
      "        \"measure_mitigation\": true,\n",
      "        \"zne_mitigation\": true,\n",
      "        \"zne\": {\n",
      "            \"amplifier\": \"gate_folding\",\n",
      "            \"noise_factors\": [\n",
      "                1,\n",
      "                2,\n",
      "                3\n",
      "            ],\n",
      "            \"extrapolated_noise_factors\": [\n",
      "                0.0,\n",
      "                0.1,\n",
      "                0.2,\n",
      "                0.30000000000000004,\n",
      "                0.4,\n",
      "                0.5,\n",
      "                0.6000000000000001,\n",
      "                0.7000000000000001,\n",
      "                0.8,\n",
      "                0.9,\n",
      "                1.0,\n",
      "                1.1,\n",
      "                1.2000000000000002,\n",
      "                1.3,\n",
      "                1.4000000000000001,\n",
      "                1.5,\n",
      "                1.6,\n",
      "                1.7000000000000002,\n",
      "                1.8,\n",
      "                1.9000000000000001,\n",
      "                2.0,\n",
      "                2.1,\n",
      "                2.2,\n",
      "                2.3000000000000003,\n",
      "                2.4000000000000004,\n",
      "                2.5,\n",
      "                2.6,\n",
      "                2.7,\n",
      "                2.8000000000000003,\n",
      "                2.9000000000000004,\n",
      "                3.0\n",
      "            ],\n",
      "            \"extrapolator\": [\n",
      "                \"exponential\",\n",
      "                \"linear\",\n",
      "                \"fallback\"\n",
      "            ]\n",
      "        },\n",
      "        \"measure_noise_learning\": {\n",
      "            \"num_randomizations\": 512,\n",
      "            \"shots_per_randomization\": 512\n",
      "        }\n",
      "    },\n",
      "    \"twirling\": {\n",
      "        \"enable_gates\": true,\n",
      "        \"enable_measure\": true,\n",
      "        \"num_randomizations\": 300,\n",
      "        \"shots_per_randomization\": 100,\n",
      "        \"strategy\": \"active\"\n",
      "    }\n",
      "}\n",
      "Hamiltonian: SparsePauliOp(['IIXX', 'IXXI', 'XXII', 'IIYY', 'IYYI', 'YYII'],\n",
      "              coeffs=[1.+0.j, 1.+0.j, 1.+0.j, 1.+0.j, 1.+0.j, 1.+0.j])\n",
      "Observable: SparsePauliOp(['IZZI'],\n",
      "              coeffs=[1.+0.j])\n",
      "Number of AQC parameters: 111\n",
      "Target MPS maximum bond dimension: 1\n",
      "Starting fidelity of AQC portion: 0.9998469036435305\n",
      "2024-12-18 14:27:24.300802 Intermediate result: Fidelity 0.99988068\n",
      "2024-12-18 14:27:24.304527 Intermediate result: Fidelity 0.99993563\n",
      "2024-12-18 14:27:24.372708 Intermediate result: Fidelity 0.99993563\n",
      "Done after 3 iterations.\n",
      "Fidelity of AQC portion: 0.9999364836122492\n",
      "ISA circuit two-qubit depth: 91\n",
      "Aborting before hardware execution since `dry_run` is True.\n",
      "\n"
     ]
    }
   ],
   "source": [
    "print(job.logs())"
   ]
  }
 ],
 "metadata": {
  "kernelspec": {
   "display_name": "Python 3 (ipykernel)",
   "language": "python",
   "name": "python3"
  },
  "language_info": {
   "codemirror_mode": {
    "name": "ipython",
    "version": 3
   },
   "file_extension": ".py",
   "mimetype": "text/x-python",
   "name": "python",
   "nbconvert_exporter": "python",
   "pygments_lexer": "ipython3",
   "version": "3.11.10"
  }
 },
 "nbformat": 4,
 "nbformat_minor": 5
}
