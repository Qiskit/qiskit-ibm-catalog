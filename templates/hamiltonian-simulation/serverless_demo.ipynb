{
 "cells": [
  {
   "cell_type": "markdown",
   "id": "512492cd-d547-492b-8755-57355d9d3ac8",
   "metadata": {},
   "source": [
    "# Qiskit serverless demonstration: Hamiltonian simulation template"
   ]
  },
  {
   "cell_type": "markdown",
   "id": "95f53da7-ae60-4ccf-9b3f-32b8e44f8548",
   "metadata": {},
   "source": [
    "### Convert notebook to a Qiskit Serverless program\n",
    "\n",
    "Here we use `nbconvert` to convert the Jupyter notebook to a Python program (`.py` file)."
   ]
  },
  {
   "cell_type": "code",
   "execution_count": 1,
   "id": "05f325fa-8372-4e4f-b12d-627213168aaa",
   "metadata": {},
   "outputs": [
    {
     "name": "stdout",
     "output_type": "stream",
     "text": [
      "Notebook saved to source_files/hamsim_template.py\n"
     ]
    }
   ],
   "source": [
    "from pathlib import Path\n",
    "from nbconvert.exporters import ScriptExporter\n",
    "\n",
    "notebook_filename = \"hamsim_template.ipynb\"\n",
    "source_path = Path(\"./source_files/\")\n",
    "source_path.mkdir(exist_ok=True)\n",
    "script, script_info = ScriptExporter().from_filename(notebook_filename)\n",
    "script_name = script_info[\"metadata\"][\"name\"]\n",
    "script_file = source_path / (script_name + script_info[\"output_extension\"])\n",
    "with script_file.open(\"w\") as f:\n",
    "    f.write(script)\n",
    "print(f\"Notebook saved to {script_file}\")"
   ]
  },
  {
   "cell_type": "code",
   "execution_count": 2,
   "id": "94d2dafd-2c5d-4ec2-812c-60060a8bb26e",
   "metadata": {},
   "outputs": [
    {
     "name": "stdout",
     "output_type": "stream",
     "text": [
      "#!/usr/bin/env python\n",
      "# coding: utf-8\n",
      "\n",
      "# # Reducing the Trotter error of Hamiltonian dynamics with <span style=\"color:black\">approximate quantum compilation</span>\n",
      "# \n",
      "# In this notebook, you will learn how to use **Approximate Quantum Compilation with Tensor Networks (AQC-Tensor)**.\n",
      "# \n",
      "# This notebook can be executed either directly or as a Qiskit Serverless program (see [accompanying notebook](serverless_demo.ipynb)).  In a few places it behaves differently based on how it is called (i.e., by branching on the value of `is_running_in_serverless()`).\n",
      "# \n",
      "# Our overall goal is to simulate time evolution of the above model Hamiltonian.  We do so by Trotter evolution, which we split into two portions:\n",
      "# \n",
      "# 1. An initial portion that is simulable with matrix product states (MPS).  We will \"compile\" this portion using AQC as presented in https://arxiv.org/abs/2301.08609.\n",
      "# 2. A subsequent portion of the circuit that will be executed only on hardware.\n",
      "\n",
      "# ### Set parameters for function template\n",
      "\n",
      "# In[1]:\n",
      "\n",
      "\n",
      "from qiskit_serverless import get_arguments, save_result, is_running_in_serverless\n",
      "\n",
      "\n",
      "output = {}\n",
      "\n",
      "if is_running_in_serverless():\n",
      " \n",
      "[...]\n"
     ]
    }
   ],
   "source": [
    "with script_file.open() as f:\n",
    "    print(\"\".join(f.readlines()[:25]), \"\\n[...]\")"
   ]
  },
  {
   "cell_type": "markdown",
   "id": "5e9c99fa-a4a8-433b-9c9a-cf25bddc2c6d",
   "metadata": {},
   "source": [
    "### Upload template to serverless"
   ]
  },
  {
   "cell_type": "code",
   "execution_count": 3,
   "id": "31226d40-be87-4069-9fdb-d9015dcd5e16",
   "metadata": {},
   "outputs": [
    {
     "name": "stdout",
     "output_type": "stream",
     "text": [
      "Uploaded program: hamsim_template\n"
     ]
    }
   ],
   "source": [
    "from qiskit_ibm_catalog import QiskitServerless, QiskitFunction\n",
    "\n",
    "title = script_file.stem\n",
    "\n",
    "template = QiskitFunction(\n",
    "    title=script_file.stem,\n",
    "    entrypoint=script_file.name,\n",
    "    working_dir=str(source_path),\n",
    "    dependencies=[\n",
    "        \"qiskit-addon-utils~=0.1.0\",\n",
    "        \"qiskit-addon-aqc-tensor[quimb-jax]~=0.1.2\",\n",
    "        \"mergedeep==1.3.4\",\n",
    "    ],\n",
    ")\n",
    "\n",
    "serverless = QiskitServerless()\n",
    "serverless.upload(template)\n",
    "print(f\"Uploaded program: {title}\")"
   ]
  },
  {
   "cell_type": "code",
   "execution_count": 4,
   "id": "f4935f39-9c29-442a-9ab8-68fb21b86ab9",
   "metadata": {},
   "outputs": [
    {
     "data": {
      "text/plain": [
       "[QiskitFunction(hamsim_template),\n",
       " QiskitFunction(function_template_hamsim),\n",
       " QiskitFunction(template_hamiltonian_simulation),\n",
       " QiskitFunction(aqc_tutorial_L50)]"
      ]
     },
     "execution_count": 4,
     "metadata": {},
     "output_type": "execute_result"
    }
   ],
   "source": [
    "serverless.list()"
   ]
  },
  {
   "cell_type": "markdown",
   "id": "31f63fd6-0fd0-49f4-9fd0-e22bf413f8d6",
   "metadata": {},
   "source": [
    "### Load the template"
   ]
  },
  {
   "cell_type": "code",
   "execution_count": 5,
   "id": "b0d19778-4ee7-4205-a4c8-e1cafc50752d",
   "metadata": {},
   "outputs": [],
   "source": [
    "template = serverless.load(title)"
   ]
  },
  {
   "cell_type": "markdown",
   "id": "61ca636d-dfb8-4e4e-a3a1-7ed974950714",
   "metadata": {},
   "source": [
    "### Prepare hamiltonian and observable"
   ]
  },
  {
   "cell_type": "code",
   "execution_count": 6,
   "id": "21b415a9-0888-4fe4-a969-35dabe8aca63",
   "metadata": {},
   "outputs": [],
   "source": [
    "from qiskit.quantum_info import SparsePauliOp\n",
    "\n",
    "hamiltonian = SparsePauliOp.from_sparse_list(\n",
    "    [(\"XX\", (i, i + 1), 1.0) for i in range(3)], num_qubits=4\n",
    ") + SparsePauliOp.from_sparse_list(\n",
    "    [(\"YY\", (i, i + 1), 1.0) for i in range(3)], num_qubits=4\n",
    ")\n",
    "observable = SparsePauliOp.from_sparse_list([(\"ZZ\", (1, 2), 1.0)], num_qubits=4)"
   ]
  },
  {
   "cell_type": "markdown",
   "id": "2b801bef-c8e9-4670-9784-5dc5da738f41",
   "metadata": {},
   "source": [
    "### Run the template"
   ]
  },
  {
   "cell_type": "code",
   "execution_count": 7,
   "id": "6bd04854-0f3c-480c-a734-313b4f34efcb",
   "metadata": {},
   "outputs": [],
   "source": [
    "job = template.run(\n",
    "    dry_run=True,\n",
    "    hamiltonian=hamiltonian,\n",
    "    observable=observable,\n",
    "    backend_name=\"ibm_fez\",\n",
    "    estimator_options={},\n",
    "    aqc_evolution_time=0.2,\n",
    "    aqc_ansatz_num_trotter_steps=1,\n",
    "    aqc_target_num_trotter_steps=32,\n",
    "    remainder_evolution_time=0.2,\n",
    "    remainder_num_trotter_steps=4,\n",
    "    aqc_max_iterations=300,\n",
    ")"
   ]
  },
  {
   "cell_type": "code",
   "execution_count": 8,
   "id": "a64dd2b1-dda2-4182-8601-5c4763323fae",
   "metadata": {},
   "outputs": [
    {
     "name": "stdout",
     "output_type": "stream",
     "text": [
      "6caccb69-1d4b-49a3-949a-77b9e280ab6f\n"
     ]
    }
   ],
   "source": [
    "print(job.job_id)"
   ]
  },
  {
   "cell_type": "markdown",
   "id": "ca3f6c67-7121-4aed-9772-8453a4dc95e5",
   "metadata": {},
   "source": [
    "### Check the logs (this will return any info about how AQC is behaving)"
   ]
  },
  {
   "cell_type": "code",
   "execution_count": 9,
   "id": "310a7391-9e5a-4687-b3be-bd09b5862ce2",
   "metadata": {},
   "outputs": [
    {
     "data": {
      "text/plain": [
       "'QUEUED'"
      ]
     },
     "execution_count": 9,
     "metadata": {},
     "output_type": "execute_result"
    }
   ],
   "source": [
    "job.status()"
   ]
  },
  {
   "cell_type": "code",
   "execution_count": 10,
   "id": "128fdcd8-14c0-40f6-846b-e3d846f7cc2a",
   "metadata": {},
   "outputs": [
    {
     "name": "stdout",
     "output_type": "stream",
     "text": [
      "No logs yet.\n"
     ]
    }
   ],
   "source": [
    "print(job.logs())"
   ]
  },
  {
   "cell_type": "markdown",
   "id": "ed632d41-e7ac-4a9a-929f-47c73ae743dd",
   "metadata": {},
   "source": [
    "### Get the final result (expectation value)"
   ]
  },
  {
   "cell_type": "code",
   "execution_count": null,
   "id": "ccb5e1b4-1471-43c9-b4ba-8db0a277ecd5",
   "metadata": {},
   "outputs": [],
   "source": [
    "job.result()"
   ]
  },
  {
   "cell_type": "code",
   "execution_count": null,
   "id": "3c6ab5e2-8c22-435d-b773-757a7ed075a4",
   "metadata": {},
   "outputs": [],
   "source": [
    "print(job.logs())"
   ]
  }
 ],
 "metadata": {
  "kernelspec": {
   "display_name": "Python 3 (ipykernel)",
   "language": "python",
   "name": "python3"
  },
  "language_info": {
   "codemirror_mode": {
    "name": "ipython",
    "version": 3
   },
   "file_extension": ".py",
   "mimetype": "text/x-python",
   "name": "python",
   "nbconvert_exporter": "python",
   "pygments_lexer": "ipython3",
   "version": "3.11.10"
  }
 },
 "nbformat": 4,
 "nbformat_minor": 5
}
