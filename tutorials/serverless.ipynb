{
 "cells": [
  {
   "cell_type": "markdown",
   "metadata": {},
   "source": [
    "# QiskitServerless client tutorial\n",
    "\n",
    "Getting started with QiskitServerless\n",
    "\n"
   ]
  },
  {
   "cell_type": "code",
   "execution_count": 2,
   "metadata": {},
   "outputs": [
    {
     "data": {
      "text/plain": [
       "<QiskitServerless>"
      ]
     },
     "execution_count": 2,
     "metadata": {},
     "output_type": "execute_result"
    }
   ],
   "source": [
    "\"\"\"QiskitServerless client\"\"\"\n",
    "# pylint: disable=pointless-statement\n",
    "\n",
    "import os\n",
    "from qiskit_ibm_catalog import QiskitServerless, QiskitFunction\n",
    "\n",
    "serverless = QiskitServerless(token=os.environ.get(\"TOKEN\"))\n",
    "serverless"
   ]
  },
  {
   "cell_type": "code",
   "execution_count": 7,
   "metadata": {},
   "outputs": [
    {
     "data": {
      "text/plain": [
       "QiskitFunction(hello-qiskit)"
      ]
     },
     "execution_count": 7,
     "metadata": {},
     "output_type": "execute_result"
    }
   ],
   "source": [
    "hello_function = serverless.upload(\n",
    "    QiskitFunction(\n",
    "        title=\"hello-qiskit\", entrypoint=\"entrypoint.py\", working_dir=\"./src\"\n",
    "    )\n",
    ")\n",
    "hello_function"
   ]
  },
  {
   "cell_type": "code",
   "execution_count": 8,
   "metadata": {},
   "outputs": [
    {
     "data": {
      "text/plain": [
       "<Job | 80861417-cfa2-46b7-86a1-0a9b6431fa6e>"
      ]
     },
     "execution_count": 8,
     "metadata": {},
     "output_type": "execute_result"
    }
   ],
   "source": [
    "job = hello_function.run()\n",
    "job"
   ]
  },
  {
   "cell_type": "code",
   "execution_count": 10,
   "metadata": {},
   "outputs": [
    {
     "name": "stdout",
     "output_type": "stream",
     "text": [
      "No logs yet.\n"
     ]
    }
   ],
   "source": [
    "print(job.logs())"
   ]
  },
  {
   "cell_type": "code",
   "execution_count": null,
   "metadata": {},
   "outputs": [],
   "source": [
    "job.result()"
   ]
  }
 ],
 "metadata": {
  "kernelspec": {
   "display_name": "Python 3",
   "language": "python",
   "name": "python3"
  },
  "language_info": {
   "codemirror_mode": {
    "name": "ipython",
    "version": 3
   },
   "file_extension": ".py",
   "mimetype": "text/x-python",
   "name": "python",
   "nbconvert_exporter": "python",
   "pygments_lexer": "ipython3",
   "version": "3.11.9"
  }
 },
 "nbformat": 4,
 "nbformat_minor": 2
}
